{
 "cells": [
  {
   "cell_type": "code",
   "execution_count": 14,
   "id": "52b254f9",
   "metadata": {},
   "outputs": [],
   "source": [
    "from sklearn.datasets import load_iris\n",
    "from sklearn.tree import DecisionTreeClassifier\n",
    "from sklearn.model_selection import train_test_split\n",
    "from sklearn.metrics import accuracy_score\n",
    "import numpy as np"
   ]
  },
  {
   "cell_type": "code",
   "execution_count": 15,
   "id": "1529b304",
   "metadata": {},
   "outputs": [],
   "source": [
    "data = load_iris()\n",
    "\n",
    "X = data.data\n",
    "y = data.target\n",
    "\n",
    "X = X[y<2]\n",
    "y = y[y<2]\n",
    "\n",
    "X_train, X_test, y_train, y_test = train_test_split(X, y, random_state=0)"
   ]
  },
  {
   "cell_type": "code",
   "execution_count": 16,
   "id": "9845950d",
   "metadata": {},
   "outputs": [],
   "source": [
    "M = 100\n",
    "weights = np.full(len(X_train), fill_value=1/len(X_train))\n",
    "trees = []\n",
    "alphas = []\n",
    "\n",
    "for m in range(M):\n",
    "    tree_m = DecisionTreeClassifier(max_depth=1)\n",
    "    tree_m.fit(X_train, y_train, sample_weight=weights)\n",
    "    wrong_indexes = tree_m.predict(X_train)!=y_train\n",
    "    err_m = weights[wrong_indexes].sum()/weights.sum()+1e-10\n",
    "    alpha_m = np.log((1-err_m)/err_m)\n",
    "    weights[wrong_indexes] = weights[wrong_indexes]*(1-err_m)/err_m\n",
    "    \n",
    "    trees.append(tree_m)\n",
    "    alphas.append(alpha_m)\n"
   ]
  },
  {
   "cell_type": "code",
   "execution_count": 17,
   "id": "8e8bde6b",
   "metadata": {},
   "outputs": [],
   "source": [
    "y_pred = sum([alpha*tree.predict(X_test) for alpha, tree in zip(alphas, trees)])"
   ]
  },
  {
   "cell_type": "code",
   "execution_count": 18,
   "id": "08f61b6d",
   "metadata": {},
   "outputs": [
    {
     "data": {
      "text/plain": [
       "1.0"
      ]
     },
     "execution_count": 18,
     "metadata": {},
     "output_type": "execute_result"
    }
   ],
   "source": [
    "accuracy_score(y_test, np.array(y_pred>0, dtype='int'))"
   ]
  },
  {
   "cell_type": "code",
   "execution_count": null,
   "id": "ae3636d5",
   "metadata": {},
   "outputs": [],
   "source": []
  }
 ],
 "metadata": {
  "kernelspec": {
   "display_name": "Python 3 (ipykernel)",
   "language": "python",
   "name": "python3"
  },
  "language_info": {
   "codemirror_mode": {
    "name": "ipython",
    "version": 3
   },
   "file_extension": ".py",
   "mimetype": "text/x-python",
   "name": "python",
   "nbconvert_exporter": "python",
   "pygments_lexer": "ipython3",
   "version": "3.9.5"
  }
 },
 "nbformat": 4,
 "nbformat_minor": 5
}
