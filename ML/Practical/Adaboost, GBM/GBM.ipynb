{
 "cells": [
  {
   "cell_type": "code",
   "execution_count": 1,
   "id": "b9c18cc2",
   "metadata": {},
   "outputs": [],
   "source": [
    "from sklearn.datasets import load_iris\n",
    "import numpy as np\n",
    "from sklearn.tree import DecisionTreeRegressor\n",
    "from sklearn.model_selection import train_test_split\n",
    "from sklearn.metrics import r2_score, mean_squared_error\n"
   ]
  },
  {
   "cell_type": "code",
   "execution_count": 7,
   "id": "0fe51224",
   "metadata": {},
   "outputs": [
    {
     "name": "stdout",
     "output_type": "stream",
     "text": [
      "(100, 2) (100,)\n"
     ]
    }
   ],
   "source": [
    "X = np.random.multivariate_normal([2,-5], [[4, -1.6], [-1.6, 6]], size=100)\n",
    "y = X @[5,1] + np.random.normal(scale=100)\n",
    "\n",
    "print(X.shape, y.shape)\n",
    "\n",
    "X_train, X_test, y_train, y_test = train_test_split(X, y)\n"
   ]
  },
  {
   "cell_type": "code",
   "execution_count": 8,
   "id": "8e51ebbb",
   "metadata": {},
   "outputs": [],
   "source": [
    "def grad(y_true, y_pred):\n",
    "    return - (y_true - y_pred)\n"
   ]
  },
  {
   "cell_type": "code",
   "execution_count": 12,
   "id": "b3b88f3e",
   "metadata": {},
   "outputs": [
    {
     "name": "stdout",
     "output_type": "stream",
     "text": [
      "Loss: 103.59921820486547\n",
      "Loss: 0.07038799657948755\n"
     ]
    },
    {
     "data": {
      "text/plain": [
       "0.9993205740564538"
      ]
     },
     "execution_count": 12,
     "metadata": {},
     "output_type": "execute_result"
    }
   ],
   "source": [
    "# Fit\n",
    "\n",
    "pred_0 = np.full(y_train.shape, y_train.mean())\n",
    "\n",
    "M = 300\n",
    "depth=1\n",
    "pred = pred_0\n",
    "trees = []\n",
    "\n",
    "print('Loss:', mean_squared_error(y_train, pred))\n",
    "\n",
    "for m in range(M):\n",
    "    dt = DecisionTreeRegressor(max_depth=depth)\n",
    "    \n",
    "    r = - grad(y_train, pred)\n",
    "    dt.fit(X_train, r)\n",
    "\n",
    "    trees.append(dt)\n",
    "\n",
    "    pred = pred + dt.predict(X_train)\n",
    "\n",
    "print('Loss:', mean_squared_error(y_train, pred))\n",
    "\n",
    "r2_score(y_train, pred)\n"
   ]
  },
  {
   "cell_type": "code",
   "execution_count": 13,
   "id": "7f685934",
   "metadata": {},
   "outputs": [],
   "source": [
    "# Predict\n",
    "y_pred = pred_0[0] + np.array([tree.predict(X_test) for tree in trees]).sum(axis=0)"
   ]
  },
  {
   "cell_type": "code",
   "execution_count": 14,
   "id": "0b7d035a",
   "metadata": {},
   "outputs": [
    {
     "data": {
      "text/plain": [
       "0.9856987372437479"
      ]
     },
     "execution_count": 14,
     "metadata": {},
     "output_type": "execute_result"
    }
   ],
   "source": [
    "r2_score(y_test, y_pred)"
   ]
  },
  {
   "cell_type": "code",
   "execution_count": null,
   "id": "9fb8608e",
   "metadata": {},
   "outputs": [],
   "source": []
  }
 ],
 "metadata": {
  "kernelspec": {
   "display_name": "Python 3 (ipykernel)",
   "language": "python",
   "name": "python3"
  },
  "language_info": {
   "codemirror_mode": {
    "name": "ipython",
    "version": 3
   },
   "file_extension": ".py",
   "mimetype": "text/x-python",
   "name": "python",
   "nbconvert_exporter": "python",
   "pygments_lexer": "ipython3",
   "version": "3.9.5"
  }
 },
 "nbformat": 4,
 "nbformat_minor": 5
}
