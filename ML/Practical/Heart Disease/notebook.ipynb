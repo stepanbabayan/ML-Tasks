{
 "cells": [
  {
   "cell_type": "code",
   "execution_count": 36,
   "metadata": {},
   "outputs": [],
   "source": [
    "import numpy as np\n",
    "from scipy import stats\n",
    "import pandas as pd\n",
    "import matplotlib.pyplot as plt\n",
    "import seaborn as sns\n",
    "from sklearn.preprocessing import StandardScaler, MinMaxScaler, OneHotEncoder, LabelEncoder\n",
    "from sklearn.model_selection import train_test_split, KFold\n",
    "\n",
    "from sklearn.decomposition import PCA\n",
    "\n",
    "from sklearn.linear_model import LogisticRegression, LinearRegression\n",
    "from sklearn.ensemble import RandomForestClassifier, AdaBoostClassifier\n",
    "from sklearn.neural_network import MLPClassifier\n",
    "from sklearn.neighbors import KNeighborsClassifier\n",
    "\n",
    "from sklearn.metrics import f1_score, confusion_matrix, accuracy_score"
   ]
  },
  {
   "cell_type": "code",
   "execution_count": 37,
   "metadata": {},
   "outputs": [
    {
     "data": {
      "text/html": [
       "<div>\n",
       "<style scoped>\n",
       "    .dataframe tbody tr th:only-of-type {\n",
       "        vertical-align: middle;\n",
       "    }\n",
       "\n",
       "    .dataframe tbody tr th {\n",
       "        vertical-align: top;\n",
       "    }\n",
       "\n",
       "    .dataframe thead th {\n",
       "        text-align: right;\n",
       "    }\n",
       "</style>\n",
       "<table border=\"1\" class=\"dataframe\">\n",
       "  <thead>\n",
       "    <tr style=\"text-align: right;\">\n",
       "      <th></th>\n",
       "      <th>Age</th>\n",
       "      <th>Sex</th>\n",
       "      <th>ChestPainType</th>\n",
       "      <th>RestingBP</th>\n",
       "      <th>Cholesterol</th>\n",
       "      <th>FastingBS</th>\n",
       "      <th>RestingECG</th>\n",
       "      <th>MaxHR</th>\n",
       "      <th>ExerciseAngina</th>\n",
       "      <th>Oldpeak</th>\n",
       "      <th>ST_Slope</th>\n",
       "      <th>HeartDisease</th>\n",
       "    </tr>\n",
       "  </thead>\n",
       "  <tbody>\n",
       "    <tr>\n",
       "      <th>0</th>\n",
       "      <td>40</td>\n",
       "      <td>M</td>\n",
       "      <td>ATA</td>\n",
       "      <td>140</td>\n",
       "      <td>289</td>\n",
       "      <td>0</td>\n",
       "      <td>Normal</td>\n",
       "      <td>172</td>\n",
       "      <td>N</td>\n",
       "      <td>0.0</td>\n",
       "      <td>Up</td>\n",
       "      <td>0</td>\n",
       "    </tr>\n",
       "    <tr>\n",
       "      <th>1</th>\n",
       "      <td>49</td>\n",
       "      <td>F</td>\n",
       "      <td>NAP</td>\n",
       "      <td>160</td>\n",
       "      <td>180</td>\n",
       "      <td>0</td>\n",
       "      <td>Normal</td>\n",
       "      <td>156</td>\n",
       "      <td>N</td>\n",
       "      <td>1.0</td>\n",
       "      <td>Flat</td>\n",
       "      <td>1</td>\n",
       "    </tr>\n",
       "    <tr>\n",
       "      <th>2</th>\n",
       "      <td>37</td>\n",
       "      <td>M</td>\n",
       "      <td>ATA</td>\n",
       "      <td>130</td>\n",
       "      <td>283</td>\n",
       "      <td>0</td>\n",
       "      <td>ST</td>\n",
       "      <td>98</td>\n",
       "      <td>N</td>\n",
       "      <td>0.0</td>\n",
       "      <td>Up</td>\n",
       "      <td>0</td>\n",
       "    </tr>\n",
       "    <tr>\n",
       "      <th>3</th>\n",
       "      <td>48</td>\n",
       "      <td>F</td>\n",
       "      <td>ASY</td>\n",
       "      <td>138</td>\n",
       "      <td>214</td>\n",
       "      <td>0</td>\n",
       "      <td>Normal</td>\n",
       "      <td>108</td>\n",
       "      <td>Y</td>\n",
       "      <td>1.5</td>\n",
       "      <td>Flat</td>\n",
       "      <td>1</td>\n",
       "    </tr>\n",
       "    <tr>\n",
       "      <th>4</th>\n",
       "      <td>54</td>\n",
       "      <td>M</td>\n",
       "      <td>NAP</td>\n",
       "      <td>150</td>\n",
       "      <td>195</td>\n",
       "      <td>0</td>\n",
       "      <td>Normal</td>\n",
       "      <td>122</td>\n",
       "      <td>N</td>\n",
       "      <td>0.0</td>\n",
       "      <td>Up</td>\n",
       "      <td>0</td>\n",
       "    </tr>\n",
       "  </tbody>\n",
       "</table>\n",
       "</div>"
      ],
      "text/plain": [
       "   Age Sex ChestPainType  RestingBP  Cholesterol  FastingBS RestingECG  MaxHR  \\\n",
       "0   40   M           ATA        140          289          0     Normal    172   \n",
       "1   49   F           NAP        160          180          0     Normal    156   \n",
       "2   37   M           ATA        130          283          0         ST     98   \n",
       "3   48   F           ASY        138          214          0     Normal    108   \n",
       "4   54   M           NAP        150          195          0     Normal    122   \n",
       "\n",
       "  ExerciseAngina  Oldpeak ST_Slope  HeartDisease  \n",
       "0              N      0.0       Up             0  \n",
       "1              N      1.0     Flat             1  \n",
       "2              N      0.0       Up             0  \n",
       "3              Y      1.5     Flat             1  \n",
       "4              N      0.0       Up             0  "
      ]
     },
     "execution_count": 37,
     "metadata": {},
     "output_type": "execute_result"
    }
   ],
   "source": [
    "data = pd.read_csv('heart.csv')\n",
    "data.head()"
   ]
  },
  {
   "cell_type": "code",
   "execution_count": 38,
   "metadata": {},
   "outputs": [
    {
     "data": {
      "text/plain": [
       "N    547\n",
       "Y    371\n",
       "Name: ExerciseAngina, dtype: int64"
      ]
     },
     "execution_count": 38,
     "metadata": {},
     "output_type": "execute_result"
    }
   ],
   "source": [
    "data.ExerciseAngina.value_counts()"
   ]
  },
  {
   "cell_type": "code",
   "execution_count": 39,
   "metadata": {},
   "outputs": [],
   "source": [
    "# data.isna().sum()"
   ]
  },
  {
   "cell_type": "code",
   "execution_count": 40,
   "metadata": {},
   "outputs": [],
   "source": [
    "# df = data.sample(frac=0.8,random_state=1)\n",
    "# test = data.drop(df.index)\n",
    "df, test = train_test_split(data, test_size=0.2, shuffle=True)"
   ]
  },
  {
   "cell_type": "code",
   "execution_count": 41,
   "metadata": {},
   "outputs": [
    {
     "data": {
      "text/html": [
       "<div>\n",
       "<style scoped>\n",
       "    .dataframe tbody tr th:only-of-type {\n",
       "        vertical-align: middle;\n",
       "    }\n",
       "\n",
       "    .dataframe tbody tr th {\n",
       "        vertical-align: top;\n",
       "    }\n",
       "\n",
       "    .dataframe thead th {\n",
       "        text-align: right;\n",
       "    }\n",
       "</style>\n",
       "<table border=\"1\" class=\"dataframe\">\n",
       "  <thead>\n",
       "    <tr style=\"text-align: right;\">\n",
       "      <th></th>\n",
       "      <th>Age</th>\n",
       "      <th>RestingBP</th>\n",
       "      <th>Cholesterol</th>\n",
       "      <th>FastingBS</th>\n",
       "      <th>MaxHR</th>\n",
       "      <th>Oldpeak</th>\n",
       "      <th>HeartDisease</th>\n",
       "    </tr>\n",
       "  </thead>\n",
       "  <tbody>\n",
       "    <tr>\n",
       "      <th>Age</th>\n",
       "      <td>1.000000</td>\n",
       "      <td>0.257930</td>\n",
       "      <td>-0.085609</td>\n",
       "      <td>0.193174</td>\n",
       "      <td>-0.375764</td>\n",
       "      <td>0.263849</td>\n",
       "      <td>0.270633</td>\n",
       "    </tr>\n",
       "    <tr>\n",
       "      <th>RestingBP</th>\n",
       "      <td>0.257930</td>\n",
       "      <td>1.000000</td>\n",
       "      <td>0.089975</td>\n",
       "      <td>0.072651</td>\n",
       "      <td>-0.125442</td>\n",
       "      <td>0.196766</td>\n",
       "      <td>0.122898</td>\n",
       "    </tr>\n",
       "    <tr>\n",
       "      <th>Cholesterol</th>\n",
       "      <td>-0.085609</td>\n",
       "      <td>0.089975</td>\n",
       "      <td>1.000000</td>\n",
       "      <td>-0.271712</td>\n",
       "      <td>0.237133</td>\n",
       "      <td>0.075085</td>\n",
       "      <td>-0.213981</td>\n",
       "    </tr>\n",
       "    <tr>\n",
       "      <th>FastingBS</th>\n",
       "      <td>0.193174</td>\n",
       "      <td>0.072651</td>\n",
       "      <td>-0.271712</td>\n",
       "      <td>1.000000</td>\n",
       "      <td>-0.144404</td>\n",
       "      <td>0.049968</td>\n",
       "      <td>0.256848</td>\n",
       "    </tr>\n",
       "    <tr>\n",
       "      <th>MaxHR</th>\n",
       "      <td>-0.375764</td>\n",
       "      <td>-0.125442</td>\n",
       "      <td>0.237133</td>\n",
       "      <td>-0.144404</td>\n",
       "      <td>1.000000</td>\n",
       "      <td>-0.155297</td>\n",
       "      <td>-0.418219</td>\n",
       "    </tr>\n",
       "    <tr>\n",
       "      <th>Oldpeak</th>\n",
       "      <td>0.263849</td>\n",
       "      <td>0.196766</td>\n",
       "      <td>0.075085</td>\n",
       "      <td>0.049968</td>\n",
       "      <td>-0.155297</td>\n",
       "      <td>1.000000</td>\n",
       "      <td>0.396223</td>\n",
       "    </tr>\n",
       "    <tr>\n",
       "      <th>HeartDisease</th>\n",
       "      <td>0.270633</td>\n",
       "      <td>0.122898</td>\n",
       "      <td>-0.213981</td>\n",
       "      <td>0.256848</td>\n",
       "      <td>-0.418219</td>\n",
       "      <td>0.396223</td>\n",
       "      <td>1.000000</td>\n",
       "    </tr>\n",
       "  </tbody>\n",
       "</table>\n",
       "</div>"
      ],
      "text/plain": [
       "                   Age  RestingBP  Cholesterol  FastingBS     MaxHR   Oldpeak  \\\n",
       "Age           1.000000   0.257930    -0.085609   0.193174 -0.375764  0.263849   \n",
       "RestingBP     0.257930   1.000000     0.089975   0.072651 -0.125442  0.196766   \n",
       "Cholesterol  -0.085609   0.089975     1.000000  -0.271712  0.237133  0.075085   \n",
       "FastingBS     0.193174   0.072651    -0.271712   1.000000 -0.144404  0.049968   \n",
       "MaxHR        -0.375764  -0.125442     0.237133  -0.144404  1.000000 -0.155297   \n",
       "Oldpeak       0.263849   0.196766     0.075085   0.049968 -0.155297  1.000000   \n",
       "HeartDisease  0.270633   0.122898    -0.213981   0.256848 -0.418219  0.396223   \n",
       "\n",
       "              HeartDisease  \n",
       "Age               0.270633  \n",
       "RestingBP         0.122898  \n",
       "Cholesterol      -0.213981  \n",
       "FastingBS         0.256848  \n",
       "MaxHR            -0.418219  \n",
       "Oldpeak           0.396223  \n",
       "HeartDisease      1.000000  "
      ]
     },
     "execution_count": 41,
     "metadata": {},
     "output_type": "execute_result"
    }
   ],
   "source": [
    "df.corr()"
   ]
  },
  {
   "cell_type": "code",
   "execution_count": 42,
   "metadata": {},
   "outputs": [],
   "source": [
    "# sns.barplot(x='Sex', y='HeartDisease', data=df);"
   ]
  },
  {
   "cell_type": "code",
   "execution_count": 43,
   "metadata": {},
   "outputs": [],
   "source": [
    "# plt.hist(df.Age)\n",
    "# plt.show()\n",
    "# plt.bar(np.sort(np.unique(df.Age)),df.groupby('Age')['HeartDisease'].sum())"
   ]
  },
  {
   "cell_type": "code",
   "execution_count": 44,
   "metadata": {},
   "outputs": [
    {
     "data": {
      "text/plain": [
       "HeartDisease\n",
       "0    328\n",
       "1    406\n",
       "Name: Age, dtype: int64"
      ]
     },
     "execution_count": 44,
     "metadata": {},
     "output_type": "execute_result"
    }
   ],
   "source": [
    "df.groupby('HeartDisease').Age.count()"
   ]
  },
  {
   "cell_type": "code",
   "execution_count": 45,
   "metadata": {},
   "outputs": [
    {
     "data": {
      "text/plain": [
       "(734, 11)"
      ]
     },
     "execution_count": 45,
     "metadata": {},
     "output_type": "execute_result"
    }
   ],
   "source": [
    "X, y = df[df.columns.difference(['HeartDisease'])], df['HeartDisease']\n",
    "X.shape"
   ]
  },
  {
   "cell_type": "code",
   "execution_count": 46,
   "metadata": {},
   "outputs": [],
   "source": [
    "X_train, X_test, y_train, y_test = train_test_split(X, y)"
   ]
  },
  {
   "cell_type": "code",
   "execution_count": 47,
   "metadata": {},
   "outputs": [],
   "source": [
    "cat_columns = ['ChestPainType', 'RestingECG', 'ST_Slope']\n",
    "le_columns = ['Sex', 'FastingBS', 'ExerciseAngina']"
   ]
  },
  {
   "cell_type": "code",
   "execution_count": 48,
   "metadata": {},
   "outputs": [
    {
     "data": {
      "text/plain": [
       "M    147\n",
       "F     37\n",
       "Name: Sex, dtype: int64"
      ]
     },
     "execution_count": 48,
     "metadata": {},
     "output_type": "execute_result"
    }
   ],
   "source": [
    "X_test.Sex.value_counts()"
   ]
  },
  {
   "cell_type": "code",
   "execution_count": 49,
   "metadata": {},
   "outputs": [
    {
     "name": "stderr",
     "output_type": "stream",
     "text": [
      "E:\\Program Files\\Python39\\lib\\site-packages\\pandas\\core\\indexing.py:1676: SettingWithCopyWarning: \n",
      "A value is trying to be set on a copy of a slice from a DataFrame.\n",
      "Try using .loc[row_indexer,col_indexer] = value instead\n",
      "\n",
      "See the caveats in the documentation: https://pandas.pydata.org/pandas-docs/stable/user_guide/indexing.html#returning-a-view-versus-a-copy\n",
      "  self._setitem_single_column(ilocs[0], value, pi)\n"
     ]
    }
   ],
   "source": [
    "le = LabelEncoder()\n",
    "\n",
    "for le_column in le_columns:\n",
    "    le.fit(X_train[le_column])\n",
    "    X_train.loc[:, le_column] = pd.Series(le.transform(X_train[le_column]), name=le_column, index=X_train.index)\n",
    "    X_test.loc[:, le_column] = pd.Series(le.transform(X_test[le_column]), name=le_column, index=X_test.index)"
   ]
  },
  {
   "cell_type": "code",
   "execution_count": 50,
   "metadata": {},
   "outputs": [],
   "source": [
    "# sscaler = MinMaxScaler()\n",
    "# sscaler.fit(X_train[X_train.columns.difference(cat_columns)])\n",
    "\n",
    "# train_scaled = pd.DataFrame(\n",
    "#     sscaler.transform(X_train[X_train.columns.difference(cat_columns)]),\n",
    "#     columns=X_train.columns.difference(cat_columns),\n",
    "#     index=X_train.index)\n",
    "# test_scaled = pd.DataFrame(\n",
    "#     sscaler.transform(X_test[X_train.columns.difference(cat_columns)]),\n",
    "#     columns=X_train.columns.difference(cat_columns),\n",
    "#     index=X_test.index)"
   ]
  },
  {
   "cell_type": "code",
   "execution_count": 51,
   "metadata": {},
   "outputs": [],
   "source": [
    "encoder = OneHotEncoder(sparse=False, handle_unknown='ignore')\n",
    "encoder.fit(X_train[cat_columns])\n",
    "    \n",
    "train_encoded = pd.DataFrame(\n",
    "    encoder.transform(X_train[cat_columns]),\n",
    "    columns=encoder.get_feature_names(cat_columns),\n",
    "    index=X_train.index)\n",
    "test_encoded = pd.DataFrame(\n",
    "    encoder.transform(X_test[cat_columns]),\n",
    "    columns=encoder.get_feature_names(cat_columns),\n",
    "    index=X_test.index)"
   ]
  },
  {
   "cell_type": "code",
   "execution_count": 52,
   "metadata": {},
   "outputs": [
    {
     "data": {
      "text/plain": [
       "Index(['Age', 'Cholesterol', 'ExerciseAngina', 'FastingBS', 'MaxHR', 'Oldpeak',\n",
       "       'RestingBP', 'Sex'],\n",
       "      dtype='object')"
      ]
     },
     "execution_count": 52,
     "metadata": {},
     "output_type": "execute_result"
    }
   ],
   "source": [
    "X_train.columns.difference(cat_columns)"
   ]
  },
  {
   "cell_type": "code",
   "execution_count": 53,
   "metadata": {},
   "outputs": [],
   "source": [
    "X_train =  pd.concat([X_train[X_train.columns.difference(cat_columns)], train_encoded], axis=1)\n",
    "X_test = pd.concat([X_test[X_test.columns.difference(cat_columns)], test_encoded], axis=1)"
   ]
  },
  {
   "cell_type": "code",
   "execution_count": 54,
   "metadata": {},
   "outputs": [
    {
     "data": {
      "text/html": [
       "<div>\n",
       "<style scoped>\n",
       "    .dataframe tbody tr th:only-of-type {\n",
       "        vertical-align: middle;\n",
       "    }\n",
       "\n",
       "    .dataframe tbody tr th {\n",
       "        vertical-align: top;\n",
       "    }\n",
       "\n",
       "    .dataframe thead th {\n",
       "        text-align: right;\n",
       "    }\n",
       "</style>\n",
       "<table border=\"1\" class=\"dataframe\">\n",
       "  <thead>\n",
       "    <tr style=\"text-align: right;\">\n",
       "      <th></th>\n",
       "      <th>Age</th>\n",
       "      <th>Cholesterol</th>\n",
       "      <th>ExerciseAngina</th>\n",
       "      <th>FastingBS</th>\n",
       "      <th>MaxHR</th>\n",
       "      <th>Oldpeak</th>\n",
       "      <th>RestingBP</th>\n",
       "      <th>Sex</th>\n",
       "      <th>ChestPainType_ASY</th>\n",
       "      <th>ChestPainType_ATA</th>\n",
       "      <th>ChestPainType_NAP</th>\n",
       "      <th>ChestPainType_TA</th>\n",
       "      <th>RestingECG_LVH</th>\n",
       "      <th>RestingECG_Normal</th>\n",
       "      <th>RestingECG_ST</th>\n",
       "      <th>ST_Slope_Down</th>\n",
       "      <th>ST_Slope_Flat</th>\n",
       "      <th>ST_Slope_Up</th>\n",
       "    </tr>\n",
       "  </thead>\n",
       "  <tbody>\n",
       "    <tr>\n",
       "      <th>335</th>\n",
       "      <td>62</td>\n",
       "      <td>0</td>\n",
       "      <td>0</td>\n",
       "      <td>1</td>\n",
       "      <td>134</td>\n",
       "      <td>-0.8</td>\n",
       "      <td>120</td>\n",
       "      <td>1</td>\n",
       "      <td>0.0</td>\n",
       "      <td>0.0</td>\n",
       "      <td>0.0</td>\n",
       "      <td>1.0</td>\n",
       "      <td>1.0</td>\n",
       "      <td>0.0</td>\n",
       "      <td>0.0</td>\n",
       "      <td>0.0</td>\n",
       "      <td>1.0</td>\n",
       "      <td>0.0</td>\n",
       "    </tr>\n",
       "    <tr>\n",
       "      <th>324</th>\n",
       "      <td>46</td>\n",
       "      <td>0</td>\n",
       "      <td>0</td>\n",
       "      <td>1</td>\n",
       "      <td>133</td>\n",
       "      <td>-2.6</td>\n",
       "      <td>100</td>\n",
       "      <td>1</td>\n",
       "      <td>1.0</td>\n",
       "      <td>0.0</td>\n",
       "      <td>0.0</td>\n",
       "      <td>0.0</td>\n",
       "      <td>0.0</td>\n",
       "      <td>0.0</td>\n",
       "      <td>1.0</td>\n",
       "      <td>0.0</td>\n",
       "      <td>1.0</td>\n",
       "      <td>0.0</td>\n",
       "    </tr>\n",
       "    <tr>\n",
       "      <th>28</th>\n",
       "      <td>53</td>\n",
       "      <td>468</td>\n",
       "      <td>0</td>\n",
       "      <td>0</td>\n",
       "      <td>127</td>\n",
       "      <td>0.0</td>\n",
       "      <td>113</td>\n",
       "      <td>0</td>\n",
       "      <td>0.0</td>\n",
       "      <td>1.0</td>\n",
       "      <td>0.0</td>\n",
       "      <td>0.0</td>\n",
       "      <td>0.0</td>\n",
       "      <td>1.0</td>\n",
       "      <td>0.0</td>\n",
       "      <td>0.0</td>\n",
       "      <td>0.0</td>\n",
       "      <td>1.0</td>\n",
       "    </tr>\n",
       "    <tr>\n",
       "      <th>743</th>\n",
       "      <td>52</td>\n",
       "      <td>201</td>\n",
       "      <td>0</td>\n",
       "      <td>0</td>\n",
       "      <td>158</td>\n",
       "      <td>0.8</td>\n",
       "      <td>134</td>\n",
       "      <td>1</td>\n",
       "      <td>0.0</td>\n",
       "      <td>1.0</td>\n",
       "      <td>0.0</td>\n",
       "      <td>0.0</td>\n",
       "      <td>0.0</td>\n",
       "      <td>1.0</td>\n",
       "      <td>0.0</td>\n",
       "      <td>0.0</td>\n",
       "      <td>0.0</td>\n",
       "      <td>1.0</td>\n",
       "    </tr>\n",
       "    <tr>\n",
       "      <th>631</th>\n",
       "      <td>46</td>\n",
       "      <td>311</td>\n",
       "      <td>1</td>\n",
       "      <td>0</td>\n",
       "      <td>120</td>\n",
       "      <td>1.8</td>\n",
       "      <td>140</td>\n",
       "      <td>1</td>\n",
       "      <td>1.0</td>\n",
       "      <td>0.0</td>\n",
       "      <td>0.0</td>\n",
       "      <td>0.0</td>\n",
       "      <td>0.0</td>\n",
       "      <td>1.0</td>\n",
       "      <td>0.0</td>\n",
       "      <td>0.0</td>\n",
       "      <td>1.0</td>\n",
       "      <td>0.0</td>\n",
       "    </tr>\n",
       "  </tbody>\n",
       "</table>\n",
       "</div>"
      ],
      "text/plain": [
       "     Age  Cholesterol  ExerciseAngina  FastingBS  MaxHR  Oldpeak  RestingBP  \\\n",
       "335   62            0               0          1    134     -0.8        120   \n",
       "324   46            0               0          1    133     -2.6        100   \n",
       "28    53          468               0          0    127      0.0        113   \n",
       "743   52          201               0          0    158      0.8        134   \n",
       "631   46          311               1          0    120      1.8        140   \n",
       "\n",
       "     Sex  ChestPainType_ASY  ChestPainType_ATA  ChestPainType_NAP  \\\n",
       "335    1                0.0                0.0                0.0   \n",
       "324    1                1.0                0.0                0.0   \n",
       "28     0                0.0                1.0                0.0   \n",
       "743    1                0.0                1.0                0.0   \n",
       "631    1                1.0                0.0                0.0   \n",
       "\n",
       "     ChestPainType_TA  RestingECG_LVH  RestingECG_Normal  RestingECG_ST  \\\n",
       "335               1.0             1.0                0.0            0.0   \n",
       "324               0.0             0.0                0.0            1.0   \n",
       "28                0.0             0.0                1.0            0.0   \n",
       "743               0.0             0.0                1.0            0.0   \n",
       "631               0.0             0.0                1.0            0.0   \n",
       "\n",
       "     ST_Slope_Down  ST_Slope_Flat  ST_Slope_Up  \n",
       "335            0.0            1.0          0.0  \n",
       "324            0.0            1.0          0.0  \n",
       "28             0.0            0.0          1.0  \n",
       "743            0.0            0.0          1.0  \n",
       "631            0.0            1.0          0.0  "
      ]
     },
     "execution_count": 54,
     "metadata": {},
     "output_type": "execute_result"
    }
   ],
   "source": [
    "X_train.head()"
   ]
  },
  {
   "cell_type": "code",
   "execution_count": 55,
   "metadata": {},
   "outputs": [],
   "source": [
    "out_index = X_train[np.abs(stats.zscore(X_train)) > 4].index\n",
    "X_train.drop(out_index, inplace=True)\n",
    "y_train.drop(out_index, inplace=True)"
   ]
  },
  {
   "cell_type": "code",
   "execution_count": 56,
   "metadata": {},
   "outputs": [],
   "source": [
    "# class_weight = dict((y_train.value_counts().sum() - y_train.value_counts()) / y_train.value_counts().sum())"
   ]
  },
  {
   "cell_type": "code",
   "execution_count": 57,
   "metadata": {},
   "outputs": [],
   "source": [
    "# logR = LogisticRegression(C=1, tol=0.0001, fit_intercept=True, class_weight=class_weight, max_iter=500)"
   ]
  },
  {
   "cell_type": "code",
   "execution_count": 58,
   "metadata": {},
   "outputs": [],
   "source": [
    "# logR.fit(X_train, y_train)"
   ]
  },
  {
   "cell_type": "code",
   "execution_count": 59,
   "metadata": {},
   "outputs": [],
   "source": [
    "# logR.score(X_train, y_train), logR.score(X_test, y_test)"
   ]
  },
  {
   "cell_type": "code",
   "execution_count": 60,
   "metadata": {},
   "outputs": [],
   "source": [
    "# s1 = []\n",
    "# s = []\n",
    "# for i in range(10):\n",
    "#     rf = RandomForestClassifier(\n",
    "#         n_estimators=100,\n",
    "#         max_depth=None,\n",
    "#         min_samples_split=10,\n",
    "#         max_leaf_nodes=20,\n",
    "#         class_weight=class_weight,\n",
    "#         n_jobs=2)\n",
    "#     rf.fit(X_train, y_train)\n",
    "#     s1.append(rf.score(X_train, y_train)), s.append(rf.score(X_test, y_test))\n",
    "\n",
    "# np.mean(np.array(s1)), np.mean(np.array(s))"
   ]
  },
  {
   "cell_type": "code",
   "execution_count": 61,
   "metadata": {},
   "outputs": [],
   "source": [
    "# rf.score(X_train, y_train), rf.score(X_test, y_test)"
   ]
  },
  {
   "cell_type": "code",
   "execution_count": 62,
   "metadata": {},
   "outputs": [],
   "source": [
    "# f1_score(rf.predict(X_train), y_train), f1_score(rf.predict(X_test), y_test)"
   ]
  },
  {
   "cell_type": "code",
   "execution_count": 63,
   "metadata": {},
   "outputs": [],
   "source": [
    "# pca = PCA(n_components=15)\n",
    "# pca.fit(X_train)\n",
    "# pca.transform(X_train).shape, pca.transform(X_test).shape"
   ]
  },
  {
   "cell_type": "code",
   "execution_count": 64,
   "metadata": {},
   "outputs": [],
   "source": [
    "# X_train = pd.DataFrame(\n",
    "#     pca.transform(X_train),\n",
    "#     # columns=encoder.get_feature_names(cat_columns),\n",
    "#     index=X_train.index)\n",
    "# X_test = pd.DataFrame(\n",
    "#     pca.transform(X_test),\n",
    "#     # columns=encoder.get_feature_names(cat_columns),\n",
    "#     index=X_test.index)"
   ]
  },
  {
   "cell_type": "code",
   "execution_count": 65,
   "metadata": {},
   "outputs": [
    {
     "data": {
      "text/plain": [
       "{1: 0.44686648501362397, 0: 0.553133514986376}"
      ]
     },
     "execution_count": 65,
     "metadata": {},
     "output_type": "execute_result"
    }
   ],
   "source": [
    "dict((y.value_counts().sum() - y.value_counts()) / y.value_counts().sum())"
   ]
  },
  {
   "cell_type": "code",
   "execution_count": 66,
   "metadata": {},
   "outputs": [
    {
     "data": {
      "text/plain": [
       "array([1.11890244, 0.90394089])"
      ]
     },
     "execution_count": 66,
     "metadata": {},
     "output_type": "execute_result"
    }
   ],
   "source": [
    "y.shape[0] / (2 * np.bincount(y))\n",
    "# np.bincount(y)"
   ]
  },
  {
   "cell_type": "code",
   "execution_count": 67,
   "metadata": {},
   "outputs": [],
   "source": [
    "# s1 = []\n",
    "# s = []\n",
    "# for i in range(10):\n",
    "#     rf = RandomForestClassifier(\n",
    "#         n_estimators=100,\n",
    "#         max_depth=None,\n",
    "#         min_samples_split=10,\n",
    "#         max_leaf_nodes=20,\n",
    "#         class_weight=class_weight,\n",
    "#         n_jobs=2)\n",
    "#     rf.fit(X_train, y_train)\n",
    "#     s1.append(rf.score(X_train, y_train)), s.append(rf.score(X_test, y_test))\n",
    "\n",
    "# np.mean(np.array(s1)), np.mean(np.array(s))"
   ]
  },
  {
   "cell_type": "code",
   "execution_count": 101,
   "metadata": {},
   "outputs": [],
   "source": [
    "def full_pipeline(data,\n",
    "                  clf=None,\n",
    "                  encoder=None,\n",
    "                  le_d=None,\n",
    "                  pca=None,\n",
    "                  k=10):\n",
    "\n",
    "    X, y = data[data.columns.difference(['HeartDisease'])], data['HeartDisease']\n",
    "    print(X.shape)\n",
    "    \n",
    "    cat_columns = ['Sex', 'ChestPainType', 'FastingBS', 'RestingECG', 'ExerciseAngina', 'ST_Slope']\n",
    "    le_columns = ['Sex', 'FastingBS', 'ExerciseAngina']\n",
    "    \n",
    "    if le_d is None:\n",
    "        le_d = dict()\n",
    "\n",
    "        for le_column in le_columns:\n",
    "            le_d[le_column] = LabelEncoder()\n",
    "            le_d[le_column].fit(X.loc[:, le_column])\n",
    "\n",
    "    for le_column in le_columns:\n",
    "        X.loc[:, le_column] = pd.Series(le_d[le_column].transform(X.loc[:, le_column]), name=le_column, index=X.index)\n",
    "\n",
    "    if encoder is None:\n",
    "        encoder = OneHotEncoder(sparse=False, handle_unknown='ignore')\n",
    "        encoder.fit(X[cat_columns])\n",
    "    X_encoded = pd.DataFrame(\n",
    "        encoder.transform(X[cat_columns]),\n",
    "        columns=encoder.get_feature_names(cat_columns),\n",
    "        index=X.index)\n",
    "\n",
    "    X =  pd.concat([X[X.columns.difference(cat_columns)], X_encoded], axis=1)\n",
    "    \n",
    "    if pca is None:\n",
    "        pca = PCA(n_components=15)\n",
    "        pca.fit(X)\n",
    "    X = pd.DataFrame(pca.transform(X), index=X.index)\n",
    "\n",
    "    class_weight = dict((y.value_counts().sum() - y.value_counts()) / y.value_counts().sum())\n",
    "\n",
    "    if clf is None:\n",
    "        \n",
    "        out_index = X[np.abs(stats.zscore(X)) > 4].index\n",
    "        X.drop(out_index, inplace=True)\n",
    "        y.drop(out_index, inplace=True)\n",
    "        \n",
    "        rf = RandomForestClassifier(\n",
    "            n_estimators=100,\n",
    "            max_depth=None,\n",
    "            min_samples_split=10,\n",
    "            max_leaf_nodes=15,\n",
    "            class_weight=class_weight,\n",
    "            n_jobs=4)\n",
    "        \n",
    "        clf = AdaBoostClassifier(base_estimator=rf, n_estimators=10)\n",
    "\n",
    "        train_acc = []\n",
    "        test_acc = []\n",
    "\n",
    "        kf_cv = KFold(n_splits=k, shuffle=True)\n",
    "\n",
    "        for train_index, test_index in kf_cv.split(X):\n",
    "            # Train-test split\n",
    "            X_train, X_test, y_train, y_test = X.iloc[train_index], X.iloc[test_index], y.iloc[train_index], y.iloc[test_index]\n",
    "\n",
    "            # Fit\n",
    "            clf.fit(X_train, y_train)\n",
    "            # Prediction\n",
    "            y_pred_train = clf.predict(X_train)    # Local train\n",
    "            y_pred_test = clf.predict(X_test)      # Local test\n",
    "\n",
    "            # RMSE\n",
    "            train_acc.append(accuracy_score(y_train, y_pred_train))\n",
    "            test_acc.append(accuracy_score(y_test, y_pred_test))\n",
    "\n",
    "        print('Local train ACC:', np.array(train_acc).mean())\n",
    "        print('Local test ACC: ', np.array(test_acc).mean())\n",
    "        \n",
    "        clf.fit(X, y)\n",
    "    else:\n",
    "        y_pred = clf.predict(X)\n",
    "        acc = accuracy_score(y, y_pred)\n",
    "        print('Unseen test ACC:', acc)\n",
    "    \n",
    "    return le_d, encoder, pca, clf"
   ]
  },
  {
   "cell_type": "code",
   "execution_count": 102,
   "metadata": {},
   "outputs": [
    {
     "name": "stdout",
     "output_type": "stream",
     "text": [
      "(918, 11)\n"
     ]
    },
    {
     "name": "stderr",
     "output_type": "stream",
     "text": [
      "E:\\Program Files\\Python39\\lib\\site-packages\\pandas\\core\\indexing.py:1676: SettingWithCopyWarning: \n",
      "A value is trying to be set on a copy of a slice from a DataFrame.\n",
      "Try using .loc[row_indexer,col_indexer] = value instead\n",
      "\n",
      "See the caveats in the documentation: https://pandas.pydata.org/pandas-docs/stable/user_guide/indexing.html#returning-a-view-versus-a-copy\n",
      "  self._setitem_single_column(ilocs[0], value, pi)\n"
     ]
    },
    {
     "name": "stdout",
     "output_type": "stream",
     "text": [
      "Local train ACC: 0.9959374737969157\n",
      "Local test ACC:  0.8742685475444096\n"
     ]
    }
   ],
   "source": [
    "le_d, encoder, pca, clf = full_pipeline(data)"
   ]
  },
  {
   "cell_type": "code",
   "execution_count": 103,
   "metadata": {},
   "outputs": [
    {
     "name": "stdout",
     "output_type": "stream",
     "text": [
      "(184, 11)\n"
     ]
    },
    {
     "name": "stderr",
     "output_type": "stream",
     "text": [
      "E:\\Program Files\\Python39\\lib\\site-packages\\pandas\\core\\indexing.py:1676: SettingWithCopyWarning: \n",
      "A value is trying to be set on a copy of a slice from a DataFrame.\n",
      "Try using .loc[row_indexer,col_indexer] = value instead\n",
      "\n",
      "See the caveats in the documentation: https://pandas.pydata.org/pandas-docs/stable/user_guide/indexing.html#returning-a-view-versus-a-copy\n",
      "  self._setitem_single_column(ilocs[0], value, pi)\n"
     ]
    },
    {
     "name": "stdout",
     "output_type": "stream",
     "text": [
      "Unseen test ACC: 0.9891304347826086\n"
     ]
    },
    {
     "data": {
      "text/plain": [
       "({'Sex': LabelEncoder(),\n",
       "  'FastingBS': LabelEncoder(),\n",
       "  'ExerciseAngina': LabelEncoder()},\n",
       " OneHotEncoder(handle_unknown='ignore', sparse=False),\n",
       " PCA(n_components=15),\n",
       " AdaBoostClassifier(base_estimator=RandomForestClassifier(class_weight={0: 0.5533769063180828,\n",
       "                                                                        1: 0.4466230936819172},\n",
       "                                                          max_leaf_nodes=15,\n",
       "                                                          min_samples_split=10,\n",
       "                                                          n_jobs=4),\n",
       "                    n_estimators=10))"
      ]
     },
     "execution_count": 103,
     "metadata": {},
     "output_type": "execute_result"
    }
   ],
   "source": [
    "full_pipeline(test, clf=clf, pca=pca, encoder=encoder, le_d=le_d)"
   ]
  },
  {
   "cell_type": "code",
   "execution_count": 71,
   "metadata": {},
   "outputs": [],
   "source": [
    "# LabelEncoding\n",
    "# 449 index outlier\n",
    "# "
   ]
  },
  {
   "cell_type": "code",
   "execution_count": null,
   "metadata": {},
   "outputs": [],
   "source": []
  }
 ],
 "metadata": {
  "interpreter": {
   "hash": "29d378c6f9f9303028c651f034ce8b915ddf31b448ad445ead3b2b3c8d60aef3"
  },
  "kernelspec": {
   "display_name": "Python 3.9.5 64-bit",
   "language": "python",
   "name": "python3"
  },
  "language_info": {
   "codemirror_mode": {
    "name": "ipython",
    "version": 3
   },
   "file_extension": ".py",
   "mimetype": "text/x-python",
   "name": "python",
   "nbconvert_exporter": "python",
   "pygments_lexer": "ipython3",
   "version": "3.9.5"
  },
  "orig_nbformat": 4
 },
 "nbformat": 4,
 "nbformat_minor": 2
}
