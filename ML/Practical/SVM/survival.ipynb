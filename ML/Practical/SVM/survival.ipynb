{
 "cells": [
  {
   "cell_type": "code",
   "execution_count": 1,
   "metadata": {},
   "outputs": [],
   "source": [
    "\n",
    "import pandas as pd\n",
    "import numpy as np\n",
    "import matplotlib.pyplot as plt\n",
    "from sklearn.utils import check_random_state\n",
    "from sklearn.model_selection import train_test_split\n",
    "from sklearn.svm import SVC\n",
    "from scipy import stats\n",
    "from sklearn.metrics import f1_score\n",
    "from sklearn.model_selection import KFold\n",
    "from sklearn.experimental import enable_iterative_imputer\n",
    "from sklearn.impute import KNNImputer, IterativeImputer"
   ]
  },
  {
   "cell_type": "code",
   "execution_count": 2,
   "metadata": {},
   "outputs": [],
   "source": [
    "all_data = pd.read_csv('Survival_dataset.csv')"
   ]
  },
  {
   "cell_type": "code",
   "execution_count": 39,
   "metadata": {},
   "outputs": [
    {
     "data": {
      "text/plain": [
       "((3200, 120), (800, 120))"
      ]
     },
     "execution_count": 39,
     "metadata": {},
     "output_type": "execute_result"
    }
   ],
   "source": [
    "data, test = train_test_split(all_data, test_size=0.2)\n",
    "data.shape, test.shape"
   ]
  },
  {
   "cell_type": "code",
   "execution_count": 40,
   "metadata": {},
   "outputs": [
    {
     "name": "stdout",
     "output_type": "stream",
     "text": [
      "<class 'pandas.core.frame.DataFrame'>\n",
      "Int64Index: 3200 entries, 2594 to 1446\n",
      "Columns: 120 entries, recordid to UrineOutputSum\n",
      "dtypes: float64(111), int64(9)\n",
      "memory usage: 3.0 MB\n"
     ]
    }
   ],
   "source": [
    "data.info()"
   ]
  },
  {
   "cell_type": "code",
   "execution_count": 41,
   "metadata": {},
   "outputs": [
    {
     "data": {
      "text/plain": [
       "array(['recordid', 'SAPS-I', 'SOFA', 'Length_of_stay', 'Survival',\n",
       "       'In-hospital_death'], dtype=object)"
      ]
     },
     "execution_count": 41,
     "metadata": {},
     "output_type": "execute_result"
    }
   ],
   "source": [
    "data.columns.values[:6]"
   ]
  },
  {
   "cell_type": "code",
   "execution_count": 42,
   "metadata": {},
   "outputs": [
    {
     "data": {
      "text/html": [
       "<div>\n",
       "<style scoped>\n",
       "    .dataframe tbody tr th:only-of-type {\n",
       "        vertical-align: middle;\n",
       "    }\n",
       "\n",
       "    .dataframe tbody tr th {\n",
       "        vertical-align: top;\n",
       "    }\n",
       "\n",
       "    .dataframe thead th {\n",
       "        text-align: right;\n",
       "    }\n",
       "</style>\n",
       "<table border=\"1\" class=\"dataframe\">\n",
       "  <thead>\n",
       "    <tr style=\"text-align: right;\">\n",
       "      <th></th>\n",
       "      <th>recordid</th>\n",
       "      <th>SAPS-I</th>\n",
       "      <th>SOFA</th>\n",
       "      <th>Length_of_stay</th>\n",
       "      <th>Survival</th>\n",
       "      <th>In-hospital_death</th>\n",
       "    </tr>\n",
       "  </thead>\n",
       "  <tbody>\n",
       "    <tr>\n",
       "      <th>2594</th>\n",
       "      <td>139104</td>\n",
       "      <td>9</td>\n",
       "      <td>1</td>\n",
       "      <td>6</td>\n",
       "      <td>-1</td>\n",
       "      <td>0</td>\n",
       "    </tr>\n",
       "    <tr>\n",
       "      <th>928</th>\n",
       "      <td>134878</td>\n",
       "      <td>10</td>\n",
       "      <td>1</td>\n",
       "      <td>10</td>\n",
       "      <td>1046</td>\n",
       "      <td>0</td>\n",
       "    </tr>\n",
       "    <tr>\n",
       "      <th>2949</th>\n",
       "      <td>139974</td>\n",
       "      <td>11</td>\n",
       "      <td>8</td>\n",
       "      <td>21</td>\n",
       "      <td>205</td>\n",
       "      <td>0</td>\n",
       "    </tr>\n",
       "    <tr>\n",
       "      <th>870</th>\n",
       "      <td>134746</td>\n",
       "      <td>7</td>\n",
       "      <td>7</td>\n",
       "      <td>4</td>\n",
       "      <td>3</td>\n",
       "      <td>1</td>\n",
       "    </tr>\n",
       "    <tr>\n",
       "      <th>593</th>\n",
       "      <td>134068</td>\n",
       "      <td>20</td>\n",
       "      <td>8</td>\n",
       "      <td>72</td>\n",
       "      <td>-1</td>\n",
       "      <td>0</td>\n",
       "    </tr>\n",
       "  </tbody>\n",
       "</table>\n",
       "</div>"
      ],
      "text/plain": [
       "      recordid  SAPS-I  SOFA  Length_of_stay  Survival  In-hospital_death\n",
       "2594    139104       9     1               6        -1                  0\n",
       "928     134878      10     1              10      1046                  0\n",
       "2949    139974      11     8              21       205                  0\n",
       "870     134746       7     7               4         3                  1\n",
       "593     134068      20     8              72        -1                  0"
      ]
     },
     "execution_count": 42,
     "metadata": {},
     "output_type": "execute_result"
    }
   ],
   "source": [
    "data[['recordid', 'SAPS-I', 'SOFA', 'Length_of_stay', 'Survival', 'In-hospital_death']].head()"
   ]
  },
  {
   "cell_type": "code",
   "execution_count": 43,
   "metadata": {},
   "outputs": [
    {
     "name": "stderr",
     "output_type": "stream",
     "text": [
      "E:\\Program Files\\Python39\\lib\\site-packages\\pandas\\core\\frame.py:4308: SettingWithCopyWarning: \n",
      "A value is trying to be set on a copy of a slice from a DataFrame\n",
      "\n",
      "See the caveats in the documentation: https://pandas.pydata.org/pandas-docs/stable/user_guide/indexing.html#returning-a-view-versus-a-copy\n",
      "  return super().drop(\n"
     ]
    },
    {
     "data": {
      "text/html": [
       "<div>\n",
       "<style scoped>\n",
       "    .dataframe tbody tr th:only-of-type {\n",
       "        vertical-align: middle;\n",
       "    }\n",
       "\n",
       "    .dataframe tbody tr th {\n",
       "        vertical-align: top;\n",
       "    }\n",
       "\n",
       "    .dataframe thead th {\n",
       "        text-align: right;\n",
       "    }\n",
       "</style>\n",
       "<table border=\"1\" class=\"dataframe\">\n",
       "  <thead>\n",
       "    <tr style=\"text-align: right;\">\n",
       "      <th></th>\n",
       "      <th>In-hospital_death</th>\n",
       "      <th>Age</th>\n",
       "      <th>Gender</th>\n",
       "      <th>Height</th>\n",
       "      <th>Weight</th>\n",
       "      <th>CCU</th>\n",
       "      <th>CSRU</th>\n",
       "      <th>SICU</th>\n",
       "      <th>DiasABP_first</th>\n",
       "      <th>GCS_first</th>\n",
       "      <th>...</th>\n",
       "      <th>SysABP_last</th>\n",
       "      <th>TroponinI_last</th>\n",
       "      <th>TroponinT_last</th>\n",
       "      <th>WBC_last</th>\n",
       "      <th>Weight_last</th>\n",
       "      <th>pH_last</th>\n",
       "      <th>MechVentStartTime</th>\n",
       "      <th>MechVentDuration</th>\n",
       "      <th>MechVentLast8Hour</th>\n",
       "      <th>UrineOutputSum</th>\n",
       "    </tr>\n",
       "  </thead>\n",
       "  <tbody>\n",
       "    <tr>\n",
       "      <th>2594</th>\n",
       "      <td>0</td>\n",
       "      <td>89.0</td>\n",
       "      <td>0.0</td>\n",
       "      <td>157.5</td>\n",
       "      <td>72.0</td>\n",
       "      <td>1</td>\n",
       "      <td>0</td>\n",
       "      <td>0</td>\n",
       "      <td>NaN</td>\n",
       "      <td>15.0</td>\n",
       "      <td>...</td>\n",
       "      <td>NaN</td>\n",
       "      <td>NaN</td>\n",
       "      <td>NaN</td>\n",
       "      <td>9.6</td>\n",
       "      <td>NaN</td>\n",
       "      <td>7.51</td>\n",
       "      <td>NaN</td>\n",
       "      <td>NaN</td>\n",
       "      <td>NaN</td>\n",
       "      <td>NaN</td>\n",
       "    </tr>\n",
       "    <tr>\n",
       "      <th>928</th>\n",
       "      <td>0</td>\n",
       "      <td>90.0</td>\n",
       "      <td>0.0</td>\n",
       "      <td>152.4</td>\n",
       "      <td>76.0</td>\n",
       "      <td>0</td>\n",
       "      <td>0</td>\n",
       "      <td>1</td>\n",
       "      <td>73.0</td>\n",
       "      <td>15.0</td>\n",
       "      <td>...</td>\n",
       "      <td>138.0</td>\n",
       "      <td>0.6</td>\n",
       "      <td>NaN</td>\n",
       "      <td>11.3</td>\n",
       "      <td>NaN</td>\n",
       "      <td>7.32</td>\n",
       "      <td>2696.0</td>\n",
       "      <td>80.0</td>\n",
       "      <td>1.0</td>\n",
       "      <td>2.0</td>\n",
       "    </tr>\n",
       "    <tr>\n",
       "      <th>2949</th>\n",
       "      <td>0</td>\n",
       "      <td>46.0</td>\n",
       "      <td>0.0</td>\n",
       "      <td>157.5</td>\n",
       "      <td>95.0</td>\n",
       "      <td>0</td>\n",
       "      <td>0</td>\n",
       "      <td>0</td>\n",
       "      <td>69.0</td>\n",
       "      <td>10.0</td>\n",
       "      <td>...</td>\n",
       "      <td>123.0</td>\n",
       "      <td>NaN</td>\n",
       "      <td>NaN</td>\n",
       "      <td>14.0</td>\n",
       "      <td>102.9</td>\n",
       "      <td>7.47</td>\n",
       "      <td>16.0</td>\n",
       "      <td>2790.0</td>\n",
       "      <td>1.0</td>\n",
       "      <td>15.0</td>\n",
       "    </tr>\n",
       "    <tr>\n",
       "      <th>870</th>\n",
       "      <td>1</td>\n",
       "      <td>58.0</td>\n",
       "      <td>0.0</td>\n",
       "      <td>NaN</td>\n",
       "      <td>152.2</td>\n",
       "      <td>0</td>\n",
       "      <td>0</td>\n",
       "      <td>0</td>\n",
       "      <td>48.0</td>\n",
       "      <td>15.0</td>\n",
       "      <td>...</td>\n",
       "      <td>146.0</td>\n",
       "      <td>NaN</td>\n",
       "      <td>NaN</td>\n",
       "      <td>15.8</td>\n",
       "      <td>152.2</td>\n",
       "      <td>NaN</td>\n",
       "      <td>NaN</td>\n",
       "      <td>NaN</td>\n",
       "      <td>NaN</td>\n",
       "      <td>NaN</td>\n",
       "    </tr>\n",
       "    <tr>\n",
       "      <th>593</th>\n",
       "      <td>0</td>\n",
       "      <td>66.0</td>\n",
       "      <td>0.0</td>\n",
       "      <td>172.7</td>\n",
       "      <td>84.0</td>\n",
       "      <td>0</td>\n",
       "      <td>0</td>\n",
       "      <td>1</td>\n",
       "      <td>62.0</td>\n",
       "      <td>14.0</td>\n",
       "      <td>...</td>\n",
       "      <td>138.0</td>\n",
       "      <td>NaN</td>\n",
       "      <td>NaN</td>\n",
       "      <td>12.8</td>\n",
       "      <td>NaN</td>\n",
       "      <td>7.45</td>\n",
       "      <td>619.0</td>\n",
       "      <td>2160.0</td>\n",
       "      <td>1.0</td>\n",
       "      <td>10.0</td>\n",
       "    </tr>\n",
       "  </tbody>\n",
       "</table>\n",
       "<p>5 rows × 115 columns</p>\n",
       "</div>"
      ],
      "text/plain": [
       "      In-hospital_death   Age  Gender  Height  Weight  CCU  CSRU  SICU  \\\n",
       "2594                  0  89.0     0.0   157.5    72.0    1     0     0   \n",
       "928                   0  90.0     0.0   152.4    76.0    0     0     1   \n",
       "2949                  0  46.0     0.0   157.5    95.0    0     0     0   \n",
       "870                   1  58.0     0.0     NaN   152.2    0     0     0   \n",
       "593                   0  66.0     0.0   172.7    84.0    0     0     1   \n",
       "\n",
       "      DiasABP_first  GCS_first  ...  SysABP_last  TroponinI_last  \\\n",
       "2594            NaN       15.0  ...          NaN             NaN   \n",
       "928            73.0       15.0  ...        138.0             0.6   \n",
       "2949           69.0       10.0  ...        123.0             NaN   \n",
       "870            48.0       15.0  ...        146.0             NaN   \n",
       "593            62.0       14.0  ...        138.0             NaN   \n",
       "\n",
       "      TroponinT_last  WBC_last  Weight_last  pH_last  MechVentStartTime  \\\n",
       "2594             NaN       9.6          NaN     7.51                NaN   \n",
       "928              NaN      11.3          NaN     7.32             2696.0   \n",
       "2949             NaN      14.0        102.9     7.47               16.0   \n",
       "870              NaN      15.8        152.2      NaN                NaN   \n",
       "593              NaN      12.8          NaN     7.45              619.0   \n",
       "\n",
       "      MechVentDuration  MechVentLast8Hour  UrineOutputSum  \n",
       "2594               NaN                NaN             NaN  \n",
       "928               80.0                1.0             2.0  \n",
       "2949            2790.0                1.0            15.0  \n",
       "870                NaN                NaN             NaN  \n",
       "593             2160.0                1.0            10.0  \n",
       "\n",
       "[5 rows x 115 columns]"
      ]
     },
     "execution_count": 43,
     "metadata": {},
     "output_type": "execute_result"
    }
   ],
   "source": [
    "data.drop(['recordid', 'SAPS-I', 'SOFA', 'Length_of_stay', 'Survival'], axis=1, inplace=True)\n",
    "test.drop(['recordid', 'SAPS-I', 'SOFA', 'Length_of_stay', 'Survival'], axis=1, inplace=True)\n",
    "data.head()"
   ]
  },
  {
   "cell_type": "code",
   "execution_count": 44,
   "metadata": {},
   "outputs": [
    {
     "data": {
      "text/plain": [
       "array(['In-hospital_death', 'Age', 'Gender', 'Height', 'Weight', 'CCU',\n",
       "       'CSRU', 'SICU', 'DiasABP_first', 'GCS_first', 'Glucose_first',\n",
       "       'HR_first', 'MAP_first', 'NIDiasABP_first', 'NIMAP_first',\n",
       "       'NISysABP_first', 'RespRate_first', 'SaO2_first', 'Temp_first',\n",
       "       'DiasABP_last', 'GCS_last', 'Glucose_last', 'HR_last', 'MAP_last',\n",
       "       'NIDiasABP_last', 'NIMAP_last', 'NISysABP_last', 'RespRate_last',\n",
       "       'SaO2_last', 'Temp_last', 'DiasABP_lowest', 'GCS_lowest',\n",
       "       'Glucose_lowest', 'HR_lowest', 'MAP_lowest', 'NIDiasABP_lowest',\n",
       "       'NIMAP_lowest', 'NISysABP_lowest', 'RespRate_lowest',\n",
       "       'SaO2_lowest', 'Temp_lowest', 'DiasABP_highest', 'GCS_highest',\n",
       "       'Glucose_highest', 'HR_highest', 'MAP_highest',\n",
       "       'NIDiasABP_highest', 'NIMAP_highest', 'NISysABP_highest',\n",
       "       'RespRate_highest', 'SaO2_highest', 'Temp_highest',\n",
       "       'DiasABP_median', 'GCS_median', 'Glucose_median', 'HR_median',\n",
       "       'MAP_median', 'NIDiasABP_median', 'NIMAP_median',\n",
       "       'NISysABP_median', 'RespRate_median', 'SaO2_median', 'Temp_median',\n",
       "       'ALP_first', 'ALT_first', 'AST_first', 'Albumin_first',\n",
       "       'BUN_first', 'Bilirubin_first', 'Cholesterol_first',\n",
       "       'Creatinine_first', 'FiO2_first', 'HCO3_first', 'HCT_first',\n",
       "       'K_first', 'Lactate_first', 'Mg_first', 'Na_first', 'PaCO2_first',\n",
       "       'PaO2_first', 'Platelets_first', 'SysABP_first', 'TroponinI_first',\n",
       "       'TroponinT_first', 'WBC_first', 'Weight_first', 'pH_first',\n",
       "       'ALP_last', 'ALT_last', 'AST_last', 'Albumin_last', 'BUN_last',\n",
       "       'Bilirubin_last', 'Cholesterol_last', 'Creatinine_last',\n",
       "       'FiO2_last', 'HCO3_last', 'HCT_last', 'K_last', 'Lactate_last',\n",
       "       'Mg_last', 'Na_last', 'PaCO2_last', 'PaO2_last', 'Platelets_last',\n",
       "       'SysABP_last', 'TroponinI_last', 'TroponinT_last', 'WBC_last',\n",
       "       'Weight_last', 'pH_last', 'MechVentStartTime', 'MechVentDuration',\n",
       "       'MechVentLast8Hour', 'UrineOutputSum'], dtype=object)"
      ]
     },
     "execution_count": 44,
     "metadata": {},
     "output_type": "execute_result"
    }
   ],
   "source": [
    "data.columns.values"
   ]
  },
  {
   "cell_type": "code",
   "execution_count": 45,
   "metadata": {},
   "outputs": [
    {
     "data": {
      "text/html": [
       "<div>\n",
       "<style scoped>\n",
       "    .dataframe tbody tr th:only-of-type {\n",
       "        vertical-align: middle;\n",
       "    }\n",
       "\n",
       "    .dataframe tbody tr th {\n",
       "        vertical-align: top;\n",
       "    }\n",
       "\n",
       "    .dataframe thead th {\n",
       "        text-align: right;\n",
       "    }\n",
       "</style>\n",
       "<table border=\"1\" class=\"dataframe\">\n",
       "  <thead>\n",
       "    <tr style=\"text-align: right;\">\n",
       "      <th></th>\n",
       "      <th>MechVentDuration</th>\n",
       "      <th>MechVentLast8Hour</th>\n",
       "      <th>MechVentStartTime</th>\n",
       "    </tr>\n",
       "  </thead>\n",
       "  <tbody>\n",
       "    <tr>\n",
       "      <th>MechVentDuration</th>\n",
       "      <td>1.000000</td>\n",
       "      <td>0.742006</td>\n",
       "      <td>-0.408208</td>\n",
       "    </tr>\n",
       "    <tr>\n",
       "      <th>MechVentLast8Hour</th>\n",
       "      <td>0.742006</td>\n",
       "      <td>1.000000</td>\n",
       "      <td>0.133645</td>\n",
       "    </tr>\n",
       "    <tr>\n",
       "      <th>MechVentStartTime</th>\n",
       "      <td>-0.408208</td>\n",
       "      <td>0.133645</td>\n",
       "      <td>1.000000</td>\n",
       "    </tr>\n",
       "  </tbody>\n",
       "</table>\n",
       "</div>"
      ],
      "text/plain": [
       "                   MechVentDuration  MechVentLast8Hour  MechVentStartTime\n",
       "MechVentDuration           1.000000           0.742006          -0.408208\n",
       "MechVentLast8Hour          0.742006           1.000000           0.133645\n",
       "MechVentStartTime         -0.408208           0.133645           1.000000"
      ]
     },
     "execution_count": 45,
     "metadata": {},
     "output_type": "execute_result"
    }
   ],
   "source": [
    "data[['MechVentDuration', 'MechVentLast8Hour', 'MechVentStartTime']].corr()"
   ]
  },
  {
   "cell_type": "code",
   "execution_count": 46,
   "metadata": {},
   "outputs": [],
   "source": [
    "# data.drop(['MechVentLast8Hour'], axis=1, inplace=True)\n",
    "# test.drop(['MechVentLast8Hour'], axis=1, inplace=True)"
   ]
  },
  {
   "cell_type": "code",
   "execution_count": 47,
   "metadata": {},
   "outputs": [
    {
     "data": {
      "image/png": "[encoded data removed]",
      "text/plain": [
       "<Figure size 432x288 with 1 Axes>"
      ]
     },
     "metadata": {
      "needs_background": "light"
     },
     "output_type": "display_data"
    }
   ],
   "source": [
    "plt.hist(data[data['In-hospital_death']==1]['Age'])\n",
    "plt.show()"
   ]
  },
  {
   "cell_type": "code",
   "execution_count": 48,
   "metadata": {},
   "outputs": [
    {
     "data": {
      "image/png": "[encoded data removed]",
      "text/plain": [
       "<Figure size 432x288 with 1 Axes>"
      ]
     },
     "metadata": {
      "needs_background": "light"
     },
     "output_type": "display_data"
    },
    {
     "data": {
      "text/plain": [
       "NaN      1522\n",
       "177.8     162\n",
       "182.9     155\n",
       "170.2     140\n",
       "167.6     137\n",
       "Name: Height, dtype: int64"
      ]
     },
     "execution_count": 48,
     "metadata": {},
     "output_type": "execute_result"
    }
   ],
   "source": [
    "plt.boxplot(data[data['Height'].isna() == False]['Height'], vert=False)\n",
    "plt.show()\n",
    "data['Height'].value_counts(dropna=False).iloc[:5]"
   ]
  },
  {
   "cell_type": "code",
   "execution_count": 49,
   "metadata": {},
   "outputs": [
    {
     "name": "stderr",
     "output_type": "stream",
     "text": [
      "E:\\Program Files\\Python39\\lib\\site-packages\\pandas\\core\\indexing.py:1676: SettingWithCopyWarning: \n",
      "A value is trying to be set on a copy of a slice from a DataFrame.\n",
      "Try using .loc[row_indexer,col_indexer] = value instead\n",
      "\n",
      "See the caveats in the documentation: https://pandas.pydata.org/pandas-docs/stable/user_guide/indexing.html#returning-a-view-versus-a-copy\n",
      "  self._setitem_single_column(ilocs[0], value, pi)\n",
      "E:\\Program Files\\Python39\\lib\\site-packages\\pandas\\core\\indexing.py:1676: SettingWithCopyWarning: \n",
      "A value is trying to be set on a copy of a slice from a DataFrame.\n",
      "Try using .loc[row_indexer,col_indexer] = value instead\n",
      "\n",
      "See the caveats in the documentation: https://pandas.pydata.org/pandas-docs/stable/user_guide/indexing.html#returning-a-view-versus-a-copy\n",
      "  self._setitem_single_column(ilocs[0], value, pi)\n",
      "E:\\Program Files\\Python39\\lib\\site-packages\\pandas\\core\\indexing.py:1676: SettingWithCopyWarning: \n",
      "A value is trying to be set on a copy of a slice from a DataFrame.\n",
      "Try using .loc[row_indexer,col_indexer] = value instead\n",
      "\n",
      "See the caveats in the documentation: https://pandas.pydata.org/pandas-docs/stable/user_guide/indexing.html#returning-a-view-versus-a-copy\n",
      "  self._setitem_single_column(ilocs[0], value, pi)\n",
      "E:\\Program Files\\Python39\\lib\\site-packages\\pandas\\core\\indexing.py:1676: SettingWithCopyWarning: \n",
      "A value is trying to be set on a copy of a slice from a DataFrame.\n",
      "Try using .loc[row_indexer,col_indexer] = value instead\n",
      "\n",
      "See the caveats in the documentation: https://pandas.pydata.org/pandas-docs/stable/user_guide/indexing.html#returning-a-view-versus-a-copy\n",
      "  self._setitem_single_column(ilocs[0], value, pi)\n"
     ]
    }
   ],
   "source": [
    "data.loc[data['Height'] > 220, 'Height'] = data.loc[data['Height'] <= 220, 'Height'].mean() + np.random.normal(0,10, data.loc[data['Height'] > 220, 'Height'].shape[0])\n",
    "data.loc[data['Height'].isna(), 'Height'] = data.loc[data['Height'] <= 220, 'Height'].mean() + np.random.normal(0,10, data.loc[data['Height'].isna(), 'Height'].shape[0])\n",
    "\n",
    "test.loc[test['Height'] > 220, 'Height'] = test.loc[test['Height'] <= 220, 'Height'].mean() + np.random.normal(0,10, test.loc[test['Height'] > 220, 'Height'].shape[0])\n",
    "test.loc[test['Height'].isna(), 'Height'] = test.loc[test['Height'] <= 220, 'Height'].mean() + np.random.normal(0,10, test.loc[test['Height'].isna(), 'Height'].shape[0])\n"
   ]
  },
  {
   "cell_type": "code",
   "execution_count": 50,
   "metadata": {},
   "outputs": [
    {
     "data": {
      "image/png": "[encoded data removed]",
      "text/plain": [
       "<Figure size 432x288 with 1 Axes>"
      ]
     },
     "metadata": {
      "needs_background": "light"
     },
     "output_type": "display_data"
    },
    {
     "data": {
      "image/png": "[encoded data removed]",
      "text/plain": [
       "<Figure size 432x288 with 1 Axes>"
      ]
     },
     "metadata": {
      "needs_background": "light"
     },
     "output_type": "display_data"
    },
    {
     "data": {
      "text/plain": [
       "177.8    162\n",
       "182.9    155\n",
       "170.2    140\n",
       "167.6    137\n",
       "172.7    132\n",
       "Name: Height, dtype: int64"
      ]
     },
     "execution_count": 50,
     "metadata": {},
     "output_type": "execute_result"
    }
   ],
   "source": [
    "plt.hist(data['Height'], bins=20)\n",
    "plt.show()\n",
    "plt.boxplot(data['Height'], vert=False)\n",
    "plt.show()\n",
    "data['Height'].value_counts(dropna=False).iloc[:5]"
   ]
  },
  {
   "cell_type": "code",
   "execution_count": 51,
   "metadata": {},
   "outputs": [
    {
     "data": {
      "text/plain": [
       "1.0    1797\n",
       "0.0    1400\n",
       "NaN       3\n",
       "Name: Gender, dtype: int64"
      ]
     },
     "execution_count": 51,
     "metadata": {},
     "output_type": "execute_result"
    }
   ],
   "source": [
    "data['Gender'].value_counts(dropna=False)"
   ]
  },
  {
   "cell_type": "code",
   "execution_count": 52,
   "metadata": {},
   "outputs": [
    {
     "data": {
      "text/plain": [
       "Gender    1.000000\n",
       "Height    0.340983\n",
       "Name: Gender, dtype: float64"
      ]
     },
     "execution_count": 52,
     "metadata": {},
     "output_type": "execute_result"
    }
   ],
   "source": [
    "data.corr()['Gender'][data.corr()['Gender'] > 0.3]"
   ]
  },
  {
   "cell_type": "code",
   "execution_count": 53,
   "metadata": {},
   "outputs": [
    {
     "data": {
      "text/plain": [
       "1.0    1800\n",
       "0.0    1400\n",
       "Name: Gender, dtype: int64"
      ]
     },
     "execution_count": 53,
     "metadata": {},
     "output_type": "execute_result"
    }
   ],
   "source": [
    "gender_heights_mean = data[data['Gender'] == 0]['Height'].mean()/2 + data[data['Gender'] == 1]['Height'].mean()/2\n",
    "for i in data[data['Gender'].isna()]['Gender'].index:\n",
    "    data.at[i, 'Gender'] = 0 if data.at[i, 'Height'] < gender_heights_mean else 1\n",
    "\n",
    "gender_heights_mean_test = test[test['Gender'] == 0]['Height'].mean()/2 + test[test['Gender'] == 1]['Height'].mean()/2\n",
    "for i in test[test['Gender'].isna()]['Gender'].index:\n",
    "    test.at[i, 'Gender'] = 0 if test.at[i, 'Height'] < gender_heights_mean_test else 1\n",
    "\n",
    "data['Gender'].value_counts(dropna=False)"
   ]
  },
  {
   "cell_type": "code",
   "execution_count": 54,
   "metadata": {},
   "outputs": [
    {
     "data": {
      "text/plain": [
       "NaN     272\n",
       "70.0     81\n",
       "80.0     59\n",
       "90.0     49\n",
       "60.0     48\n",
       "Name: Weight, dtype: int64"
      ]
     },
     "execution_count": 54,
     "metadata": {},
     "output_type": "execute_result"
    }
   ],
   "source": [
    "data['Weight'].value_counts(dropna=False).iloc[:5]"
   ]
  },
  {
   "cell_type": "code",
   "execution_count": 55,
   "metadata": {},
   "outputs": [
    {
     "data": {
      "text/html": [
       "<div>\n",
       "<style scoped>\n",
       "    .dataframe tbody tr th:only-of-type {\n",
       "        vertical-align: middle;\n",
       "    }\n",
       "\n",
       "    .dataframe tbody tr th {\n",
       "        vertical-align: top;\n",
       "    }\n",
       "\n",
       "    .dataframe thead th {\n",
       "        text-align: right;\n",
       "    }\n",
       "</style>\n",
       "<table border=\"1\" class=\"dataframe\">\n",
       "  <thead>\n",
       "    <tr style=\"text-align: right;\">\n",
       "      <th></th>\n",
       "      <th>Weight</th>\n",
       "      <th>Weight_first</th>\n",
       "      <th>Weight_last</th>\n",
       "    </tr>\n",
       "  </thead>\n",
       "  <tbody>\n",
       "    <tr>\n",
       "      <th>Weight</th>\n",
       "      <td>1.000000</td>\n",
       "      <td>0.967651</td>\n",
       "      <td>0.940724</td>\n",
       "    </tr>\n",
       "    <tr>\n",
       "      <th>Weight_first</th>\n",
       "      <td>0.967651</td>\n",
       "      <td>1.000000</td>\n",
       "      <td>0.973367</td>\n",
       "    </tr>\n",
       "    <tr>\n",
       "      <th>Weight_last</th>\n",
       "      <td>0.940724</td>\n",
       "      <td>0.973367</td>\n",
       "      <td>1.000000</td>\n",
       "    </tr>\n",
       "  </tbody>\n",
       "</table>\n",
       "</div>"
      ],
      "text/plain": [
       "                Weight  Weight_first  Weight_last\n",
       "Weight        1.000000      0.967651     0.940724\n",
       "Weight_first  0.967651      1.000000     0.973367\n",
       "Weight_last   0.940724      0.973367     1.000000"
      ]
     },
     "execution_count": 55,
     "metadata": {},
     "output_type": "execute_result"
    }
   ],
   "source": [
    "data[[col for col in data.columns if 'Weight' in col]].corr()"
   ]
  },
  {
   "cell_type": "code",
   "execution_count": 56,
   "metadata": {},
   "outputs": [
    {
     "name": "stderr",
     "output_type": "stream",
     "text": [
      "E:\\Program Files\\Python39\\lib\\site-packages\\pandas\\core\\frame.py:4308: SettingWithCopyWarning: \n",
      "A value is trying to be set on a copy of a slice from a DataFrame\n",
      "\n",
      "See the caveats in the documentation: https://pandas.pydata.org/pandas-docs/stable/user_guide/indexing.html#returning-a-view-versus-a-copy\n",
      "  return super().drop(\n"
     ]
    }
   ],
   "source": [
    "data.drop(['Weight_first', 'Weight_last'], axis=1, inplace=True)\n",
    "test.drop(['Weight_first', 'Weight_last'], axis=1, inplace=True)"
   ]
  },
  {
   "cell_type": "code",
   "execution_count": 57,
   "metadata": {},
   "outputs": [
    {
     "data": {
      "image/png": "[encoded data removed]",
      "text/plain": [
       "<Figure size 432x288 with 1 Axes>"
      ]
     },
     "metadata": {
      "needs_background": "light"
     },
     "output_type": "display_data"
    }
   ],
   "source": [
    "plt.boxplot(data[data['Weight'].isna() == False]['Weight'], vert=False)\n",
    "plt.show()"
   ]
  },
  {
   "cell_type": "code",
   "execution_count": 58,
   "metadata": {},
   "outputs": [
    {
     "name": "stderr",
     "output_type": "stream",
     "text": [
      "E:\\Program Files\\Python39\\lib\\site-packages\\pandas\\core\\indexing.py:1676: SettingWithCopyWarning: \n",
      "A value is trying to be set on a copy of a slice from a DataFrame.\n",
      "Try using .loc[row_indexer,col_indexer] = value instead\n",
      "\n",
      "See the caveats in the documentation: https://pandas.pydata.org/pandas-docs/stable/user_guide/indexing.html#returning-a-view-versus-a-copy\n",
      "  self._setitem_single_column(ilocs[0], value, pi)\n",
      "E:\\Program Files\\Python39\\lib\\site-packages\\pandas\\core\\indexing.py:1676: SettingWithCopyWarning: \n",
      "A value is trying to be set on a copy of a slice from a DataFrame.\n",
      "Try using .loc[row_indexer,col_indexer] = value instead\n",
      "\n",
      "See the caveats in the documentation: https://pandas.pydata.org/pandas-docs/stable/user_guide/indexing.html#returning-a-view-versus-a-copy\n",
      "  self._setitem_single_column(ilocs[0], value, pi)\n",
      "E:\\Program Files\\Python39\\lib\\site-packages\\pandas\\core\\indexing.py:1676: SettingWithCopyWarning: \n",
      "A value is trying to be set on a copy of a slice from a DataFrame.\n",
      "Try using .loc[row_indexer,col_indexer] = value instead\n",
      "\n",
      "See the caveats in the documentation: https://pandas.pydata.org/pandas-docs/stable/user_guide/indexing.html#returning-a-view-versus-a-copy\n",
      "  self._setitem_single_column(ilocs[0], value, pi)\n",
      "E:\\Program Files\\Python39\\lib\\site-packages\\pandas\\core\\indexing.py:1676: SettingWithCopyWarning: \n",
      "A value is trying to be set on a copy of a slice from a DataFrame.\n",
      "Try using .loc[row_indexer,col_indexer] = value instead\n",
      "\n",
      "See the caveats in the documentation: https://pandas.pydata.org/pandas-docs/stable/user_guide/indexing.html#returning-a-view-versus-a-copy\n",
      "  self._setitem_single_column(ilocs[0], value, pi)\n"
     ]
    }
   ],
   "source": [
    "data.loc[data['Weight'] > 150, 'Weight'] = data.loc[data['Weight'] <= 150, 'Weight'].mean() + np.random.normal(0,5, data.loc[data['Weight'] > 150, 'Weight'].shape[0])\n",
    "data.loc[data['Weight'].isna(), 'Weight'] = data.loc[data['Weight'] <= 150, 'Weight'].mean() + np.random.normal(0,5, data.loc[data['Weight'].isna(), 'Weight'].shape[0])\n",
    "\n",
    "test.loc[test['Weight'] > 150, 'Weight'] = test.loc[test['Weight'] <= 150, 'Weight'].mean() + np.random.normal(0,5, test.loc[test['Weight'] > 150, 'Weight'].shape[0])\n",
    "test.loc[test['Weight'].isna(), 'Weight'] = test.loc[test['Weight'] <= 150, 'Weight'].mean() + np.random.normal(0,5, test.loc[test['Weight'].isna(), 'Weight'].shape[0])"
   ]
  },
  {
   "cell_type": "code",
   "execution_count": 59,
   "metadata": {},
   "outputs": [
    {
     "data": {
      "image/png": "[encoded data removed]",
      "text/plain": [
       "<Figure size 432x288 with 1 Axes>"
      ]
     },
     "metadata": {
      "needs_background": "light"
     },
     "output_type": "display_data"
    },
    {
     "data": {
      "image/png": "[encoded data removed]",
      "text/plain": [
       "<Figure size 432x288 with 1 Axes>"
      ]
     },
     "metadata": {
      "needs_background": "light"
     },
     "output_type": "display_data"
    },
    {
     "data": {
      "text/plain": [
       "70.0    81\n",
       "80.0    59\n",
       "90.0    49\n",
       "65.0    48\n",
       "60.0    48\n",
       "Name: Weight, dtype: int64"
      ]
     },
     "execution_count": 59,
     "metadata": {},
     "output_type": "execute_result"
    }
   ],
   "source": [
    "plt.hist(data['Weight'], bins=20)\n",
    "plt.show()\n",
    "plt.boxplot(data['Weight'], vert=False)\n",
    "plt.show()\n",
    "data['Weight'].value_counts(dropna=False).iloc[:5]"
   ]
  },
  {
   "cell_type": "code",
   "execution_count": 60,
   "metadata": {},
   "outputs": [],
   "source": [
    "firsts = [col for col in data.columns if '_first' in col]\n",
    "lasts = [col for col in data.columns if '_last' in col]\n",
    "medians = [col for col in data.columns if '_median' in col]\n",
    "highests = [col for col in data.columns if '_highest' in col]\n",
    "lowests = [col for col in data.columns if '_lowest' in col]\n",
    "\n",
    "ts_cols = list(map(lambda col: col.split('_')[0], firsts))"
   ]
  },
  {
   "cell_type": "code",
   "execution_count": 61,
   "metadata": {},
   "outputs": [
    {
     "data": {
      "text/plain": [
       "RespRate_first       2307\n",
       "RespRate_last        2307\n",
       "RespRate_lowest      2307\n",
       "RespRate_highest     2307\n",
       "RespRate_median      2307\n",
       "Cholesterol_first    2947\n",
       "TroponinI_first      3034\n",
       "TroponinT_first      2521\n",
       "Cholesterol_last     2947\n",
       "TroponinI_last       3034\n",
       "TroponinT_last       2521\n",
       "dtype: int64"
      ]
     },
     "execution_count": 61,
     "metadata": {},
     "output_type": "execute_result"
    }
   ],
   "source": [
    "nan_tol = 0.7\n",
    "(data.isna().sum()[data.isna().sum() > data.shape[0]*nan_tol])"
   ]
  },
  {
   "cell_type": "code",
   "execution_count": 62,
   "metadata": {},
   "outputs": [
    {
     "name": "stdout",
     "output_type": "stream",
     "text": [
      "Index(['RespRate_first', 'RespRate_last', 'RespRate_lowest',\n",
      "       'RespRate_highest', 'RespRate_median', 'Cholesterol_first',\n",
      "       'TroponinI_first', 'TroponinT_first', 'Cholesterol_last',\n",
      "       'TroponinI_last', 'TroponinT_last'],\n",
      "      dtype='object')\n",
      "<class 'pandas.core.frame.DataFrame'>\n",
      "Int64Index: 3200 entries, 2594 to 1446\n",
      "Columns: 102 entries, In-hospital_death to UrineOutputSum\n",
      "dtypes: float64(98), int64(4)\n",
      "memory usage: 2.6 MB\n"
     ]
    },
    {
     "name": "stderr",
     "output_type": "stream",
     "text": [
      "E:\\Program Files\\Python39\\lib\\site-packages\\pandas\\core\\frame.py:4308: SettingWithCopyWarning: \n",
      "A value is trying to be set on a copy of a slice from a DataFrame\n",
      "\n",
      "See the caveats in the documentation: https://pandas.pydata.org/pandas-docs/stable/user_guide/indexing.html#returning-a-view-versus-a-copy\n",
      "  return super().drop(\n"
     ]
    }
   ],
   "source": [
    "# Removing columns with most NaN-s\n",
    "cols_to_remove = data.isna().sum()[data.isna().sum() > data.shape[0]*nan_tol].index\n",
    "print(cols_to_remove)\n",
    "data.drop(cols_to_remove, axis=1, inplace=True)\n",
    "test.drop(cols_to_remove, axis=1, inplace=True)\n",
    "data.info()"
   ]
  },
  {
   "cell_type": "code",
   "execution_count": 63,
   "metadata": {},
   "outputs": [
    {
     "name": "stderr",
     "output_type": "stream",
     "text": [
      "<ipython-input-63-b4dca7b56764>:1: SettingWithCopyWarning: \n",
      "A value is trying to be set on a copy of a slice from a DataFrame.\n",
      "Try using .loc[row_indexer,col_indexer] = value instead\n",
      "\n",
      "See the caveats in the documentation: https://pandas.pydata.org/pandas-docs/stable/user_guide/indexing.html#returning-a-view-versus-a-copy\n",
      "  data[(np.abs(stats.zscore(data)) > 3).all(axis=1)] = np.nan\n",
      "E:\\Program Files\\Python39\\lib\\site-packages\\pandas\\core\\indexing.py:1720: SettingWithCopyWarning: \n",
      "A value is trying to be set on a copy of a slice from a DataFrame.\n",
      "Try using .loc[row_indexer,col_indexer] = value instead\n",
      "\n",
      "See the caveats in the documentation: https://pandas.pydata.org/pandas-docs/stable/user_guide/indexing.html#returning-a-view-versus-a-copy\n",
      "  self._setitem_single_column(loc, value, pi)\n",
      "<ipython-input-63-b4dca7b56764>:2: SettingWithCopyWarning: \n",
      "A value is trying to be set on a copy of a slice from a DataFrame.\n",
      "Try using .loc[row_indexer,col_indexer] = value instead\n",
      "\n",
      "See the caveats in the documentation: https://pandas.pydata.org/pandas-docs/stable/user_guide/indexing.html#returning-a-view-versus-a-copy\n",
      "  test[(np.abs(stats.zscore(test)) > 3).all(axis=1)] = np.nan\n"
     ]
    }
   ],
   "source": [
    "data[(np.abs(stats.zscore(data)) > 3).all(axis=1)] = np.nan\n",
    "test[(np.abs(stats.zscore(test)) > 3).all(axis=1)] = np.nan"
   ]
  },
  {
   "cell_type": "code",
   "execution_count": 64,
   "metadata": {},
   "outputs": [],
   "source": [
    "# imputer = KNNImputer(n_neighbors=2, weights='distance')\n",
    "# imputer.fit(data)\n",
    "\n",
    "# data = pd.DataFrame(imputer.transform(data), columns=data.columns)\n",
    "# test = pd.DataFrame(imputer.transform(test), columns=test.columns)"
   ]
  },
  {
   "cell_type": "code",
   "execution_count": 65,
   "metadata": {},
   "outputs": [
    {
     "name": "stderr",
     "output_type": "stream",
     "text": [
      "E:\\Program Files\\Python39\\lib\\site-packages\\sklearn\\impute\\_iterative.py:685: ConvergenceWarning: [IterativeImputer] Early stopping criterion not reached.\n",
      "  warnings.warn(\"[IterativeImputer] Early stopping criterion not\"\n"
     ]
    }
   ],
   "source": [
    "iimputer = IterativeImputer()\n",
    "iimputer.fit(data)\n",
    "\n",
    "data = pd.DataFrame(iimputer.transform(data), columns=data.columns)\n",
    "test = pd.DataFrame(iimputer.transform(test), columns=test.columns)"
   ]
  },
  {
   "cell_type": "code",
   "execution_count": 66,
   "metadata": {},
   "outputs": [
    {
     "data": {
      "text/plain": [
       "In-hospital_death    0\n",
       "Age                  0\n",
       "Gender               0\n",
       "Height               0\n",
       "Weight               0\n",
       "                    ..\n",
       "pH_last              0\n",
       "MechVentStartTime    0\n",
       "MechVentDuration     0\n",
       "MechVentLast8Hour    0\n",
       "UrineOutputSum       0\n",
       "Length: 102, dtype: int64"
      ]
     },
     "execution_count": 66,
     "metadata": {},
     "output_type": "execute_result"
    }
   ],
   "source": [
    "data.isna().sum()"
   ]
  },
  {
   "cell_type": "code",
   "execution_count": 67,
   "metadata": {},
   "outputs": [],
   "source": [
    "X = data[data.columns.difference(['In-hospital_death'])]\n",
    "y = data['In-hospital_death']\n",
    "Xt = test[test.columns.difference(['In-hospital_death'])]\n",
    "yt = test['In-hospital_death']"
   ]
  },
  {
   "cell_type": "code",
   "execution_count": 73,
   "metadata": {},
   "outputs": [],
   "source": [
    "from sklearn.model_selection import GridSearchCV, RandomizedSearchCV\n",
    "from sklearn.tree import DecisionTreeClassifier\n",
    "from sklearn.svm import SVC\n",
    "from sklearn.ensemble import GradientBoostingClassifier, RandomForestClassifier, AdaBoostClassifier"
   ]
  },
  {
   "cell_type": "code",
   "execution_count": 69,
   "metadata": {},
   "outputs": [],
   "source": [
    "dtc = DecisionTreeClassifier()\n",
    "\n",
    "tree_params = {\n",
    "    'min_samples_split': np.arange(6, 12, 1),\n",
    "    # 'max_leaf_nodes':[30, 35, 38, 40, 42, 45, 50],\n",
    "    'max_leaf_nodes':[40, 45, 48, 50,],\n",
    "    'class_weight': [dict((y.value_counts().sum() - y.value_counts()) / y.value_counts().sum())]\n",
    "}\n",
    "\n",
    "k = 10"
   ]
  },
  {
   "cell_type": "code",
   "execution_count": 70,
   "metadata": {},
   "outputs": [],
   "source": [
    "gbc = GradientBoostingClassifier()\n",
    "\n",
    "gb_params = {\n",
    "    'n_estimators': [20, 30],\n",
    "    'learning_rate': [0.1, 0.5, 1, 1.5, 2],\n",
    "    'max_depth': [1],\n",
    "    'class_weight': [dict((y.value_counts().sum() - y.value_counts()) / y.value_counts().sum())]\n",
    "}"
   ]
  },
  {
   "cell_type": "code",
   "execution_count": 71,
   "metadata": {},
   "outputs": [],
   "source": [
    "rfc = RandomForestClassifier()\n",
    "\n",
    "rf_params = {\n",
    "    'n_estimators': [80, 100, 120],\n",
    "    'max_leaf_nodes': np.arange(4, 8, 1),\n",
    "    'max_depth': np.arange(2, 4, 1),\n",
    "    'class_weight': [dict((y.value_counts().sum() - y.value_counts()) / y.value_counts().sum())]\n",
    "}"
   ]
  },
  {
   "cell_type": "code",
   "execution_count": 110,
   "metadata": {},
   "outputs": [],
   "source": [
    "rf = RandomForestClassifier(\n",
    "    n_estimators=100,\n",
    "    max_depth=None,\n",
    "    min_samples_split=30,\n",
    "    max_leaf_nodes=7,\n",
    "    class_weight=dict((y.value_counts().sum() - y.value_counts()) / y.value_counts().sum()),\n",
    "    n_jobs=4)\n",
    "\n",
    "clf = AdaBoostClassifier(base_estimator=rf, n_estimators=10)\n"
   ]
  },
  {
   "cell_type": "code",
   "execution_count": 111,
   "metadata": {},
   "outputs": [
    {
     "data": {
      "text/plain": [
       "AdaBoostClassifier(base_estimator=RandomForestClassifier(class_weight={0.0: 0.1375,\n",
       "                                                                       1.0: 0.8625},\n",
       "                                                         max_leaf_nodes=7,\n",
       "                                                         min_samples_split=30,\n",
       "                                                         n_jobs=4),\n",
       "                   n_estimators=10)"
      ]
     },
     "execution_count": 111,
     "metadata": {},
     "output_type": "execute_result"
    }
   ],
   "source": [
    "clf.fit(X, y)"
   ]
  },
  {
   "cell_type": "code",
   "execution_count": 112,
   "metadata": {},
   "outputs": [
    {
     "name": "stdout",
     "output_type": "stream",
     "text": [
      "Train f1: 0.6889074228523769\n",
      "Test f1: 0.5194805194805195\n"
     ]
    }
   ],
   "source": [
    "y_pred_train = clf.predict(X)\n",
    "y_pred = clf.predict(Xt)\n",
    "\n",
    "# RMSE\n",
    "print(\"Train f1:\", f1_score(y, y_pred_train))\n",
    "print(\"Test f1:\", f1_score(yt, y_pred))"
   ]
  },
  {
   "cell_type": "code",
   "execution_count": 36,
   "metadata": {},
   "outputs": [
    {
     "data": {
      "text/plain": [
       "GridSearchCV(cv=10, estimator=RandomForestClassifier(), n_jobs=3,\n",
       "             param_grid={'class_weight': [{0.0: 0.1390625, 1.0: 0.8609375}],\n",
       "                         'max_depth': array([2, 3]),\n",
       "                         'max_leaf_nodes': array([4, 5, 6, 7]),\n",
       "                         'n_estimators': [80, 100, 120]},\n",
       "             scoring='f1')"
      ]
     },
     "execution_count": 36,
     "metadata": {},
     "output_type": "execute_result"
    }
   ],
   "source": [
    "clf = GridSearchCV(rfc, rf_params, cv=k, scoring='f1', n_jobs=3)\n",
    "clf.fit(X, y)"
   ]
  },
  {
   "cell_type": "code",
   "execution_count": 37,
   "metadata": {},
   "outputs": [
    {
     "data": {
      "text/plain": [
       "RandomForestClassifier(class_weight={0.0: 0.1390625, 1.0: 0.8609375},\n",
       "                       max_depth=3, max_leaf_nodes=7)"
      ]
     },
     "execution_count": 37,
     "metadata": {},
     "output_type": "execute_result"
    }
   ],
   "source": [
    "clf.best_estimator_"
   ]
  },
  {
   "cell_type": "code",
   "execution_count": 38,
   "metadata": {},
   "outputs": [
    {
     "data": {
      "text/plain": [
       "0.4446719354883606"
      ]
     },
     "execution_count": 38,
     "metadata": {},
     "output_type": "execute_result"
    }
   ],
   "source": [
    "clf.best_score_"
   ]
  },
  {
   "cell_type": "code",
   "execution_count": 224,
   "metadata": {},
   "outputs": [
    {
     "name": "stdout",
     "output_type": "stream",
     "text": [
      "Local train F1: 0.48875273592262536\n",
      "Local test F1:  0.45244629567801786\n",
      "Unseen test F1: 0.4378108516662141\n"
     ]
    }
   ],
   "source": [
    "clf1 = clf.best_estimator_\n",
    "train_f1 = []\n",
    "test_f1 = []\n",
    "f1 = []\n",
    "\n",
    "kf_cv = KFold(n_splits=k, shuffle=True)\n",
    "\n",
    "for train_index, test_index in kf_cv.split(X):\n",
    "    # Train-test split\n",
    "    X_train, X_test, y_train, y_test = X.iloc[train_index], X.iloc[test_index], y.iloc[train_index], y.iloc[test_index]\n",
    "    \n",
    "    # Fit\n",
    "    clf1.fit(X_train, y_train)\n",
    "    # Prediction\n",
    "    y_pred_train = clf1.predict(X_train)    # Local train\n",
    "    y_pred_test = clf1.predict(X_test)      # Local test\n",
    "    y_pred = clf1.predict(Xt)\n",
    "\n",
    "    # RMSE\n",
    "    train_f1.append(f1_score(y_train, y_pred_train))\n",
    "    test_f1.append(f1_score(y_test, y_pred_test))\n",
    "    f1.append(f1_score(yt, y_pred))\n",
    "\n",
    "\n",
    "print('Local train F1:', np.array(train_f1).mean())\n",
    "print('Local test F1: ', np.array(test_f1).mean())\n",
    "print('Unseen test F1:', np.array(f1).mean())"
   ]
  },
  {
   "cell_type": "code",
   "execution_count": 225,
   "metadata": {},
   "outputs": [
    {
     "name": "stdout",
     "output_type": "stream",
     "text": [
      "Local train F1: 0.5451709335598223\n",
      "Local test F1:  0.45843168431029013\n",
      "Unseen test F1: 0.45697667819888715\n"
     ]
    }
   ],
   "source": [
    "clf2 = RandomForestClassifier(class_weight={0.0: 0.145625, 1.0: 0.854375},\n",
    "                       max_depth=4, max_leaf_nodes=50, n_estimators=50)\n",
    "\n",
    "train_f1 = []\n",
    "test_f1 = []\n",
    "f1 = []\n",
    "\n",
    "kf_cv = KFold(n_splits=k, shuffle=True)\n",
    "\n",
    "for train_index, test_index in kf_cv.split(X):\n",
    "    # Train-test split\n",
    "    X_train, X_test, y_train, y_test = X.iloc[train_index], X.iloc[test_index], y.iloc[train_index], y.iloc[test_index]\n",
    "    \n",
    "    # Fit\n",
    "    clf2.fit(X_train, y_train)\n",
    "    # Prediction\n",
    "    y_pred_train = clf2.predict(X_train)    # Local train\n",
    "    y_pred_test = clf2.predict(X_test)      # Local test\n",
    "    y_pred = clf2.predict(Xt)\n",
    "\n",
    "    # RMSE\n",
    "    train_f1.append(f1_score(y_train, y_pred_train))\n",
    "    test_f1.append(f1_score(y_test, y_pred_test))\n",
    "    f1.append(f1_score(yt, y_pred))\n",
    "\n",
    "\n",
    "print('Local train F1:', np.array(train_f1).mean())\n",
    "print('Local test F1: ', np.array(test_f1).mean())\n",
    "print('Unseen test F1:', np.array(f1).mean())"
   ]
  },
  {
   "cell_type": "code",
   "execution_count": 226,
   "metadata": {},
   "outputs": [
    {
     "name": "stdout",
     "output_type": "stream",
     "text": [
      "Local train F1: 0.5384822393242789\n",
      "Local test F1:  0.45663996065051116\n",
      "Unseen test F1: 0.4427970227089378\n"
     ]
    }
   ],
   "source": [
    "clf2 = RandomForestClassifier(class_weight={0.0: 0.140625, 1.0: 0.859375},\n",
    "                       max_depth=4, max_leaf_nodes=50, n_estimators=50)\n",
    "\n",
    "train_f1 = []\n",
    "test_f1 = []\n",
    "f1 = []\n",
    "\n",
    "kf_cv = KFold(n_splits=k, shuffle=True)\n",
    "\n",
    "for train_index, test_index in kf_cv.split(X):\n",
    "    # Train-test split\n",
    "    X_train, X_test, y_train, y_test = X.iloc[train_index], X.iloc[test_index], y.iloc[train_index], y.iloc[test_index]\n",
    "    \n",
    "    # Fit\n",
    "    clf2.fit(X_train, y_train)\n",
    "    # Prediction\n",
    "    y_pred_train = clf2.predict(X_train)    # Local train\n",
    "    y_pred_test = clf2.predict(X_test)      # Local test\n",
    "    y_pred = clf2.predict(Xt)\n",
    "\n",
    "    # RMSE\n",
    "    train_f1.append(f1_score(y_train, y_pred_train))\n",
    "    test_f1.append(f1_score(y_test, y_pred_test))\n",
    "    f1.append(f1_score(yt, y_pred))\n",
    "\n",
    "\n",
    "print('Local train F1:', np.array(train_f1).mean())\n",
    "print('Local test F1: ', np.array(test_f1).mean())\n",
    "print('Unseen test F1:', np.array(f1).mean())"
   ]
  },
  {
   "cell_type": "code",
   "execution_count": null,
   "metadata": {},
   "outputs": [],
   "source": []
  }
 ],
 "metadata": {
  "interpreter": {
   "hash": "29d378c6f9f9303028c651f034ce8b915ddf31b448ad445ead3b2b3c8d60aef3"
  },
  "kernelspec": {
   "display_name": "Python 3.9.5 64-bit",
   "language": "python",
   "name": "python3"
  },
  "language_info": {
   "codemirror_mode": {
    "name": "ipython",
    "version": 3
   },
   "file_extension": ".py",
   "mimetype": "text/x-python",
   "name": "python",
   "nbconvert_exporter": "python",
   "pygments_lexer": "ipython3",
   "version": "3.9.5"
  },
  "orig_nbformat": 4
 },
 "nbformat": 4,
 "nbformat_minor": 2
}
