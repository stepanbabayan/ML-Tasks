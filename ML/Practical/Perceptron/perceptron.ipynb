{
 "cells": [
  {
   "cell_type": "code",
   "execution_count": 1,
   "metadata": {},
   "outputs": [],
   "source": [
    "import numpy as np\n"
   ]
  },
  {
   "cell_type": "code",
   "execution_count": 2,
   "metadata": {},
   "outputs": [],
   "source": [
    "class Neuron:\n",
    "    def __init__(self, n_weights, activation_type='step_function'):\n",
    "        self.activation_type = activation_type\n",
    "\n",
    "        self.weights = np.zeros(n_weights)\n",
    "\n",
    "    def activation(self, X):\n",
    "        if self.activation_type == 'step_function':\n",
    "            lin_pred = X @ self.weights\n",
    "            pred = np.where(lin_pred >= 0, 1, -1)\n",
    "        return pred\n",
    "\n",
    "class Perceptron:\n",
    "    def __init__(self, n_layers=3, n_neurons=1, learning_rate=0.1, max_iter=300):\n",
    "        self.n_hidden_layers = n_layers - 2\n",
    "        self.n_neurons = n_neurons\n",
    "        self._lr = learning_rate\n",
    "        self.max_iter = max_iter\n",
    "\n",
    "        self.beta: np.ndarray = None\n",
    "\n",
    "    def fit(self, X: np.ndarray, y: np.ndarray):\n",
    "        self.beta = np.zeros(X.shape[1] + 1)\n",
    "        X = np.concatenate([np.ones((X.shape[0], 1)), X], axis=1)\n",
    "        N = X.shape[0]\n",
    "\n",
    "        for _ in range(self.max_iter):\n",
    "            for i in range(N):\n",
    "                if y[i] != self.activation(X[i]):\n",
    "                    self.beta += self._lr * y[i] * X[i]\n",
    "\n",
    "    def activation(self, X: np.ndarray):\n",
    "        lin_pred = X @ self.beta\n",
    "        pred = np.where(lin_pred >= 0, 1, -1)\n",
    "        return pred\n",
    "\n",
    "    def predict(self, X: np.ndarray):\n",
    "        X = np.concatenate([np.ones((X.shape[0], 1)), X], axis=1)\n",
    "        return self.activation(X)\n"
   ]
  },
  {
   "cell_type": "code",
   "execution_count": 3,
   "metadata": {},
   "outputs": [
    {
     "name": "stdout",
     "output_type": "stream",
     "text": [
      "[ 1 -1 -1 -1]\n",
      "[ 1  1  1 -1]\n",
      "[1 1 1 1]\n"
     ]
    }
   ],
   "source": [
    "X = np.array([[1,1], [1,0], [0,1], [0,0]])\n",
    "y_and = np.array([1, -1, -1, -1])\n",
    "y_or = np.array([1, 1, 1, -1])\n",
    "y_xor = np.array([-1, 1, 1, -1])\n",
    "\n",
    "p = Perceptron(max_iter=100)\n",
    "\n",
    "p.fit(X, y_and)\n",
    "print(p.predict(X))\n",
    "\n",
    "p.fit(X, y_or)\n",
    "print(p.predict(X))\n",
    "\n",
    "# 1 neuron perceptron cannot work with non-linearities\n",
    "p.fit(X, y_xor)\n",
    "print(p.predict(X))"
   ]
  },
  {
   "cell_type": "code",
   "execution_count": null,
   "metadata": {},
   "outputs": [],
   "source": []
  }
 ],
 "metadata": {
  "interpreter": {
   "hash": "29d378c6f9f9303028c651f034ce8b915ddf31b448ad445ead3b2b3c8d60aef3"
  },
  "kernelspec": {
   "display_name": "Python 3.9.5 64-bit",
   "language": "python",
   "name": "python3"
  },
  "language_info": {
   "codemirror_mode": {
    "name": "ipython",
    "version": 3
   },
   "file_extension": ".py",
   "mimetype": "text/x-python",
   "name": "python",
   "nbconvert_exporter": "python",
   "pygments_lexer": "ipython3",
   "version": "3.9.5"
  },
  "orig_nbformat": 4
 },
 "nbformat": 4,
 "nbformat_minor": 2
}
