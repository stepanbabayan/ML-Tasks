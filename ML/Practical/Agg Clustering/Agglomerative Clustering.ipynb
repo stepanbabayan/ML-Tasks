{
 "cells": [
  {
   "cell_type": "code",
   "execution_count": 1,
   "id": "c772f6fe",
   "metadata": {},
   "outputs": [],
   "source": [
    "import numpy as np\n",
    "import pandas as pd\n",
    "import matplotlib.pyplot as plt\n",
    "from sklearn.metrics import pairwise_distances, pairwise_distances_argmin\n",
    "from tqdm import tqdm"
   ]
  },
  {
   "cell_type": "code",
   "execution_count": 2,
   "id": "a1d522b9",
   "metadata": {},
   "outputs": [],
   "source": [
    "class AgglomerativeClustering:\n",
    "    def __init__(self, n_clusters=None, threshold=3, linkage='average'):\n",
    "        self.n_clusters = n_clusters\n",
    "        self.threshold = threshold\n",
    "        self.linkage = linkage\n",
    "\n",
    "    def calculate_linkage(self, distance_matrix, linkage_calculated):\n",
    "        link_matrix: np.ndarray = distance_matrix.copy()\n",
    "        if np.unique(self.expectation).shape[0] != self.expectation.shape[0]:\n",
    "            i0 = np.where(linkage_calculated == 0)[0]\n",
    "            i1 = np.where(linkage_calculated == 1)[0]\n",
    "            i2 = np.where(linkage_calculated == 2)[0]\n",
    "            for i in i0:\n",
    "                link_matrix[i,:] = self.distances_sum\n",
    "                link_matrix[:,i] = self.distances_sum\n",
    "            for i in i1:\n",
    "                for j in i2:\n",
    "                    i_cluster = np.where(self.expectation == i)[0]\n",
    "                    j_cluster = np.where(self.expectation == j)[0]\n",
    "                    ij_dist = distance_matrix[i_cluster][:,j_cluster]\n",
    "                    ij_dist_m = ij_dist[ij_dist<self.distances_sum]\n",
    "                    link_matrix[i][j] = ij_dist_m.mean()\n",
    "        return link_matrix\n",
    "    \n",
    "    def fit(self, X):\n",
    "        self._X = X\n",
    "        self.expectation:np.ndarray = np.arange(self._X.shape[0])\n",
    "        self.expectation_counts = np.ones(self._X.shape[0])\n",
    "        self.linkage_calculated = np.ones(self._X.shape[0])\n",
    "\n",
    "        self.distance_matrix = pairwise_distances(self._X, self._X)\n",
    "        self.distances_sum = self.distance_matrix.sum()\n",
    "        np.fill_diagonal(self.distance_matrix, self.distances_sum)\n",
    "        \n",
    "        for i in tqdm(range(X.shape[0] - self.n_clusters)):\n",
    "        # while np.unique(self.expectation).shape[0] > self.n_clusters:\n",
    "            linkages = self.calculate_linkage(self.distance_matrix, self.linkage_calculated)\n",
    "            self.linkage_calculated[self.linkage_calculated == 1] = 2\n",
    "\n",
    "            ind = np.argmin(linkages)\n",
    "            i = ind // linkages.shape[0]\n",
    "            j = ind % linkages.shape[1]\n",
    "            if self.distance_matrix[i][j] < self.threshold:\n",
    "                self.expectation[self.expectation == i] = j\n",
    "                self.expectation_counts[j] += self.expectation_counts[i]\n",
    "                self.expectation_counts[i] = 0\n",
    "                self.linkage_calculated[i] = 0\n",
    "                self.linkage_calculated[j] = 1\n",
    "            else:\n",
    "                print('Tolerance limit reached')\n",
    "                break\n",
    "        \n",
    "    def predict(self, X):\n",
    "        # calculate linkages between all points in X and all clusters\n",
    "        # assign each point from X to its closest cluster\n",
    "        exp = []\n",
    "        for x in X: \n",
    "            dist = pairwise_distances([x], self._X)\n",
    "            np.fill_diagonal(dist, dist.sum())\n",
    "            linkage_calculated = np.ones(X.shape[0])\n",
    "            linkages = self.calculate_linkage(dist, linkage_calculated)\n",
    "            ind = np.argmin(linkages)\n",
    "            i = ind // linkages.shape[1]\n",
    "            j = ind % linkages.shape[1]\n",
    "            if dist[i][j] < self.threshold:\n",
    "                exp.append(self.expectation[j])\n",
    "            else:\n",
    "                exp.append(-1)\n",
    "        return np.array(exp)"
   ]
  },
  {
   "cell_type": "code",
   "execution_count": 3,
   "id": "8e8b64df",
   "metadata": {},
   "outputs": [],
   "source": [
    "from sklearn.datasets import make_blobs\n",
    "X, y_true = make_blobs(n_samples=300, centers=4,\n",
    "                       cluster_std=0.3, random_state=0)\n",
    "\n",
    "X1, y1_true = make_blobs(n_samples=1000, centers=6, cluster_std=1, random_state=0)"
   ]
  },
  {
   "cell_type": "code",
   "execution_count": 4,
   "id": "016d1324",
   "metadata": {},
   "outputs": [],
   "source": [
    "agg_clust = AgglomerativeClustering(n_clusters=4, threshold=3)"
   ]
  },
  {
   "cell_type": "code",
   "execution_count": 5,
   "id": "018b9223",
   "metadata": {},
   "outputs": [
    {
     "name": "stderr",
     "output_type": "stream",
     "text": [
      "100%|██████████| 296/296 [00:01<00:00, 156.65it/s]\n"
     ]
    },
    {
     "name": "stdout",
     "output_type": "stream",
     "text": [
      "(array([249, 277, 287, 296]), array([75, 75, 75, 75], dtype=int64))\n",
      "(array([ -1, 249, 277, 287, 296]), array([270, 173, 160, 167, 230], dtype=int64))\n"
     ]
    },
    {
     "data": {
      "image/png": "[encoded data removed]",
      "text/plain": [
       "<Figure size 432x288 with 1 Axes>"
      ]
     },
     "metadata": {
      "needs_background": "light"
     },
     "output_type": "display_data"
    }
   ],
   "source": [
    "agg_clust.fit(X)\n",
    "\n",
    "exp = agg_clust.predict(X)\n",
    "print(np.unique(exp, return_counts=True))\n",
    "\n",
    "exp1 = agg_clust.predict(X1)\n",
    "print(np.unique(exp1, return_counts=True))\n",
    "\n",
    "plt.scatter(X[:,0], X[:,1], c=exp)\n",
    "plt.show()"
   ]
  },
  {
   "cell_type": "code",
   "execution_count": null,
   "id": "da7e816f",
   "metadata": {},
   "outputs": [],
   "source": []
  }
 ],
 "metadata": {
  "kernelspec": {
   "display_name": "Python 3 (ipykernel)",
   "language": "python",
   "name": "python3"
  },
  "language_info": {
   "codemirror_mode": {
    "name": "ipython",
    "version": 3
   },
   "file_extension": ".py",
   "mimetype": "text/x-python",
   "name": "python",
   "nbconvert_exporter": "python",
   "pygments_lexer": "ipython3",
   "version": "3.9.5"
  }
 },
 "nbformat": 4,
 "nbformat_minor": 5
}
