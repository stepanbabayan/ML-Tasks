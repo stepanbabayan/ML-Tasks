{
 "cells": [
  {
   "cell_type": "code",
   "execution_count": 1,
   "id": "ebbd1891",
   "metadata": {},
   "outputs": [],
   "source": [
    "import numpy as np\n",
    "import pandas as pd\n",
    "from sklearn.datasets import load_iris\n",
    "from sklearn.model_selection import train_test_split"
   ]
  },
  {
   "cell_type": "code",
   "execution_count": 7,
   "id": "b26921c2",
   "metadata": {},
   "outputs": [],
   "source": [
    "class LDA:\n",
    "    def __init__(self):\n",
    "        self.full_stats = None\n",
    "        self.cov_mat = None\n",
    "        return\n",
    "\n",
    "    def dis(self, X, cov_mat, mean, pi_apriori):\n",
    "        cov_mat_inv = np.linalg.inv(cov_mat)\n",
    "        return (X).dot(cov_mat_inv).dot(mean) + np.log(pi_apriori) - (1/2)*(mean.T).dot(cov_mat_inv).dot(mean)\n",
    "    \n",
    "    def fit(self, X_train, y_train):\n",
    "        self.full_stats = dict()\n",
    "        classes, counts = np.unique(y_train, return_counts=True)\n",
    "        cov_mat = None\n",
    "\n",
    "        for i in range(len(classes)):\n",
    "            class_i = dict()\n",
    "\n",
    "            x_k = X_train[np.where(y_train == classes[i])]\n",
    "            class_i['pi_apriori'] = counts[i]/len(y_train)\n",
    "            class_i['mean'] = np.mean(x_k, axis=0)\n",
    "            if cov_mat is None:\n",
    "                cov_mat = ((x_k - class_i['mean']).T).dot(x_k-class_i['mean'])\n",
    "            else:\n",
    "                cov_mat = cov_mat + ((x_k - class_i['mean']).T).dot(x_k-class_i['mean'])\n",
    "\n",
    "            self.full_stats[classes[i]] = class_i\n",
    "        self.cov_mat = cov_mat / (X_train.shape[0] - len(classes))\n",
    "        return\n",
    "            \n",
    "        \n",
    "    def predict_proba(self, X):\n",
    "        y_pred_all = []\n",
    "        for k, value in self.full_stats.items():\n",
    "            y_pred_all.append(self.dis(X, self.cov_mat, value['mean'], value['pi_apriori']))\n",
    "        return np.array(y_pred_all).T\n",
    "       \n",
    "                \n",
    "    def predict(self, X):\n",
    "        y_pred_all = self.predict_proba(X)\n",
    "        y_pred = np.argmax(y_pred_all, axis=1)\n",
    "        return y_pred\n",
    " \n",
    "    def score(self, x_test, y_test):\n",
    "        diff_vector = self.predict(x_test) - y_test\n",
    "        accuracy = diff_vector[diff_vector==0].shape[0] / y_test.shape[0]\n",
    "        return accuracy\n",
    "       "
   ]
  },
  {
   "cell_type": "code",
   "execution_count": 8,
   "id": "b01480ce",
   "metadata": {},
   "outputs": [],
   "source": [
    "X, y = load_iris(return_X_y=True)\n",
    "x_train, x_val, y_train, y_val = train_test_split(X, y, random_state=24)"
   ]
  },
  {
   "cell_type": "code",
   "execution_count": 9,
   "id": "f259f2ab",
   "metadata": {},
   "outputs": [],
   "source": [
    "lda = LDA()\n",
    "lda.fit(x_train, y_train)"
   ]
  },
  {
   "cell_type": "code",
   "execution_count": 10,
   "id": "6d44f8f1",
   "metadata": {},
   "outputs": [
    {
     "data": {
      "text/plain": [
       "array([ 0,  0,  0,  0,  0,  0,  0,  0,  0,  0,  0,  0,  0,  0,  0,  0,  0,\n",
       "        0,  0,  0,  0,  0,  0,  0,  0,  0,  0,  0,  0,  0,  0,  0,  0,  0,\n",
       "       -1,  0,  0,  0], dtype=int64)"
      ]
     },
     "execution_count": 10,
     "metadata": {},
     "output_type": "execute_result"
    }
   ],
   "source": [
    "lda.predict(x_val) - y_val"
   ]
  },
  {
   "cell_type": "code",
   "execution_count": 11,
   "id": "b08d410f",
   "metadata": {},
   "outputs": [
    {
     "name": "stdout",
     "output_type": "stream",
     "text": [
      "Train score: 0.9821428571428571\n",
      "Test score:  0.9736842105263158\n"
     ]
    }
   ],
   "source": [
    "print('Train score:', lda.score(x_train, y_train))\n",
    "print('Test score: ', lda.score(x_val, y_val))"
   ]
  },
  {
   "cell_type": "code",
   "execution_count": null,
   "id": "277282cb",
   "metadata": {},
   "outputs": [],
   "source": []
  }
 ],
 "metadata": {
  "kernelspec": {
   "display_name": "Python 3",
   "language": "python",
   "name": "python3"
  },
  "language_info": {
   "codemirror_mode": {
    "name": "ipython",
    "version": 3
   },
   "file_extension": ".py",
   "mimetype": "text/x-python",
   "name": "python",
   "nbconvert_exporter": "python",
   "pygments_lexer": "ipython3",
   "version": "3.9.5"
  }
 },
 "nbformat": 4,
 "nbformat_minor": 5
}
