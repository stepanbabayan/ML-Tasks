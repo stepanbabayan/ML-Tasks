{
 "cells": [
  {
   "cell_type": "code",
   "execution_count": 1,
   "id": "d20c026b",
   "metadata": {},
   "outputs": [],
   "source": [
    "import numpy as np\n",
    "import pandas as pd\n",
    "from sklearn.datasets import load_iris\n",
    "from sklearn.model_selection import train_test_split"
   ]
  },
  {
   "cell_type": "code",
   "execution_count": 2,
   "id": "695f37bc",
   "metadata": {},
   "outputs": [],
   "source": [
    "class QDA:\n",
    "    def __init__(self):\n",
    "        self.full_stats = None\n",
    "        return\n",
    "        \n",
    "    def dis(self, X, cov_mat, mean, pi_apriori):\n",
    "        cov_mat_inv = np.linalg.inv(cov_mat)\n",
    "        return (-1/2) * (np.log(np.linalg.det(cov_mat)) + (X - mean).T.dot(cov_mat_inv).dot(X - mean)) + np.log(pi_apriori)\n",
    "    \n",
    "    def fit(self, X_train, y_train):\n",
    "        self.full_stats = dict()\n",
    "        classes, counts = np.unique(y_train, return_counts=True)\n",
    "\n",
    "        for i in range(len(classes)):\n",
    "            class_i = dict()\n",
    "\n",
    "            x_k = X_train[np.where(y_train == classes[i])]\n",
    "            class_i['pi_apriori'] = counts[i]/len(y_train)\n",
    "            class_i['mean'] = np.mean(x_k, axis=0)\n",
    "            class_i['cov_mat'] = ((x_k - class_i['mean']).T).dot(x_k-class_i['mean'])/(X_train.shape[0] - 1)\n",
    "\n",
    "            self.full_stats[classes[i]] = class_i\n",
    "        return\n",
    "            \n",
    "        \n",
    "    def predict_proba(self, X):\n",
    "        y_pred_all = []\n",
    "        for x in X:\n",
    "            y_pred_x = []\n",
    "            for k, value in self.full_stats.items():\n",
    "                y_pred_x.append(self.dis(x, value['cov_mat'], value['mean'], value['pi_apriori']))\n",
    "            y_pred_all.append(np.array(y_pred_x))\n",
    "        return np.array(y_pred_all)\n",
    "       \n",
    "                \n",
    "    def predict(self, X):\n",
    "        y_pred_all = self.predict_proba(X)\n",
    "        y_pred = np.argmax(y_pred_all, axis=1)\n",
    "        return y_pred\n",
    " \n",
    "    def score(self, x_test, y_test):\n",
    "        diff_vector = self.predict(x_test) - y_test\n",
    "        accuracy = diff_vector[diff_vector==0].shape[0] / y_test.shape[0]\n",
    "        return accuracy\n",
    "       "
   ]
  },
  {
   "cell_type": "code",
   "execution_count": 3,
   "id": "28c619b6",
   "metadata": {},
   "outputs": [],
   "source": [
    "X, y = load_iris(return_X_y=True)\n",
    "x_train, x_val, y_train, y_val = train_test_split(X, y, random_state=24)"
   ]
  },
  {
   "cell_type": "code",
   "execution_count": 4,
   "id": "612b2e1e",
   "metadata": {},
   "outputs": [],
   "source": [
    "qda = QDA()\n",
    "qda.fit(x_train, y_train)"
   ]
  },
  {
   "cell_type": "code",
   "execution_count": 5,
   "id": "7b481d4e",
   "metadata": {},
   "outputs": [
    {
     "data": {
      "text/plain": [
       "array([ 0,  0,  0,  0,  0,  0,  0,  0,  0,  0,  0,  0,  0,  0,  0,  0,  0,\n",
       "        0,  0,  0,  0,  0,  0,  0,  0,  0,  0,  0,  0,  0,  0,  0,  0,  0,\n",
       "       -1,  0,  0,  0], dtype=int64)"
      ]
     },
     "execution_count": 5,
     "metadata": {},
     "output_type": "execute_result"
    }
   ],
   "source": [
    "qda.predict(x_val) - y_val"
   ]
  },
  {
   "cell_type": "code",
   "execution_count": 6,
   "id": "7248fbc1",
   "metadata": {},
   "outputs": [
    {
     "name": "stdout",
     "output_type": "stream",
     "text": [
      "Train score: 0.9821428571428571\n",
      "Test score:  0.9736842105263158\n"
     ]
    }
   ],
   "source": [
    "print('Train score:', qda.score(x_train, y_train))\n",
    "print('Test score: ', qda.score(x_val, y_val))"
   ]
  },
  {
   "cell_type": "code",
   "execution_count": null,
   "id": "e01dccee",
   "metadata": {},
   "outputs": [],
   "source": []
  }
 ],
 "metadata": {
  "kernelspec": {
   "display_name": "Python 3",
   "language": "python",
   "name": "python3"
  },
  "language_info": {
   "codemirror_mode": {
    "name": "ipython",
    "version": 3
   },
   "file_extension": ".py",
   "mimetype": "text/x-python",
   "name": "python",
   "nbconvert_exporter": "python",
   "pygments_lexer": "ipython3",
   "version": "3.9.5"
  }
 },
 "nbformat": 4,
 "nbformat_minor": 5
}
