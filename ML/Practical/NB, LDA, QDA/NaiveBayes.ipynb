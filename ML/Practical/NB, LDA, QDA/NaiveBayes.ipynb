{
 "cells": [
  {
   "cell_type": "code",
   "execution_count": 1,
   "metadata": {},
   "outputs": [],
   "source": [
    "import numpy as np\n",
    "import pandas as pd\n",
    "from sklearn.datasets import load_iris\n",
    "from sklearn.model_selection import train_test_split"
   ]
  },
  {
   "cell_type": "code",
   "execution_count": 6,
   "metadata": {},
   "outputs": [],
   "source": [
    "class NaiveBayes:\n",
    "    def __init__(self, distr='Gaussian'):\n",
    "        self.distr=distr\n",
    "        return\n",
    "        \n",
    "    def get_stats(self, x):\n",
    "        mean = x.mean()\n",
    "        sigma_variance = np.sqrt(np.var(x))\n",
    "        return (mean, sigma_variance)\n",
    "        \n",
    "\n",
    "    def pdf(self, X, mean, std):\n",
    "        if self.distr == 'Gaussian':\n",
    "            prob = (1/(std * np.sqrt(2 * np.pi))) * np.exp((-1/2)*(((X - mean)/std)**2))\n",
    "        return prob\n",
    "    \n",
    "    def fit(self, X_train, y_train):\n",
    "        self.full_stats = dict()\n",
    "        classes, counts = np.unique(y_train, return_counts=True)\n",
    "        for i in range(len(classes)):\n",
    "            class_i = dict()\n",
    "            class_i['P_apriori'] = counts[i]/len(y_train)\n",
    "\n",
    "            x_k = X_train[np.where(y_train == classes[i])]\n",
    "\n",
    "            x_k_stats = []\n",
    "            for j in range(x_k.shape[1]):\n",
    "                x_k_m = x_k[:, j]\n",
    "                x_k_stats.append(self.get_stats(x_k_m))\n",
    "            class_i['stats'] = np.array(x_k_stats)\n",
    "\n",
    "            self.full_stats[classes[i]] = class_i\n",
    "        return\n",
    "            \n",
    "        \n",
    "    def predict_proba(self, X):\n",
    "        y_pred_all = []\n",
    "        for k, value in self.full_stats.items():\n",
    "            P_k = 1\n",
    "            for i in range(len(value['stats'])):\n",
    "                mean = value['stats'][i][0]\n",
    "                sigma_var = value['stats'][i][1]\n",
    "                P_k *= self.pdf(X[:, i], mean, sigma_var)\n",
    "            y_pred_all.append(value['P_apriori'] * P_k)\n",
    "        return np.array(y_pred_all)\n",
    "       \n",
    "                \n",
    "    def predict(self, X):\n",
    "        y_pred_all = self.predict_proba(X)\n",
    "        y_pred = np.argmax(y_pred_all, axis=0)\n",
    "        return y_pred\n",
    " \n",
    "    def score(self, x_test, y_test):\n",
    "        diff_vector = self.predict(x_test) - y_test\n",
    "        accuracy = diff_vector[diff_vector==0].shape[0] / y_test.shape[0]\n",
    "        return accuracy\n",
    "       "
   ]
  },
  {
   "cell_type": "code",
   "execution_count": 7,
   "metadata": {},
   "outputs": [],
   "source": [
    "X, y = load_iris(return_X_y=True)\n",
    "x_train, x_val, y_train, y_val = train_test_split(X, y, random_state=24)"
   ]
  },
  {
   "cell_type": "code",
   "execution_count": 8,
   "metadata": {},
   "outputs": [
    {
     "name": "stdout",
     "output_type": "stream",
     "text": [
      "(112, 4)\n",
      "(array([0, 1, 2]), array([12,  8, 18], dtype=int64))\n"
     ]
    }
   ],
   "source": [
    "print(x_train.shape)\n",
    "print(np.unique(y_val, return_counts=True))"
   ]
  },
  {
   "cell_type": "code",
   "execution_count": 9,
   "metadata": {},
   "outputs": [
    {
     "name": "stdout",
     "output_type": "stream",
     "text": [
      "Train score: 0.9642857142857143\n",
      "Test score:  0.9473684210526315\n"
     ]
    }
   ],
   "source": [
    "nb=NaiveBayes()\n",
    "nb.fit(x_train,y_train)\n",
    "print('Train score:', nb.score(x_train, y_train))\n",
    "print('Test score: ', nb.score(x_val, y_val))"
   ]
  },
  {
   "cell_type": "code",
   "execution_count": null,
   "metadata": {},
   "outputs": [],
   "source": []
  }
 ],
 "metadata": {
  "kernelspec": {
   "display_name": "Python 3",
   "language": "python",
   "name": "python3"
  },
  "language_info": {
   "codemirror_mode": {
    "name": "ipython",
    "version": 3
   },
   "file_extension": ".py",
   "mimetype": "text/x-python",
   "name": "python",
   "nbconvert_exporter": "python",
   "pygments_lexer": "ipython3",
   "version": "3.9.5"
  }
 },
 "nbformat": 4,
 "nbformat_minor": 4
}
