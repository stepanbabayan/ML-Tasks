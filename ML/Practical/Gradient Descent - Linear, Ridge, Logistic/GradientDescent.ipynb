{
 "cells": [
  {
   "cell_type": "markdown",
   "metadata": {
    "id": "ubH98skpBJdJ"
   },
   "source": [
    "# Implement Linear Regression (Gradient Descent) with 1 variable"
   ]
  },
  {
   "cell_type": "code",
   "execution_count": 1,
   "metadata": {
    "id": "Q3ouBMG0BJdN"
   },
   "outputs": [],
   "source": [
    "import numpy as np\n",
    "import pandas as pd\n",
    "from sklearn.model_selection import train_test_split\n",
    "from matplotlib import pyplot as plt"
   ]
  },
  {
   "cell_type": "code",
   "execution_count": 2,
   "metadata": {
    "colab": {
     "base_uri": "https://localhost:8080/",
     "height": 86
    },
    "id": "SFe2KAkMBJdT",
    "outputId": "a4276d27-dc1e-4133-e7b7-282a07360dc6"
   },
   "outputs": [],
   "source": [
    "\n",
    "# Using Gradient-descent minimize Loss function of LR\n",
    "\n",
    "# beta = [a, b]\n",
    "# y_pred = a + b * x\n",
    "\n",
    "# 1) Choose random betas\n",
    "# 2) Calculate the gradient of the loss function\n",
    "# 3) Choose the next set of betas by moving in the opposite direction of gradient\n",
    "# 4) If the change of the loss function is equal (or most likely close) to metric_change - STOP\n",
    "#    In other cases continue from step 2.\n"
   ]
  },
  {
   "cell_type": "code",
   "execution_count": 3,
   "metadata": {
    "id": "tS9svHDwBJdU"
   },
   "outputs": [],
   "source": [
    "class LinearRegression:\n",
    "    def __init__(self, lr=0.1, w=[4, 4], max_iter=3000, metric_change=0.000001):\n",
    "        self.lr = lr\n",
    "        self.w0 = w[0]\n",
    "        self.w1 = w[1]\n",
    "        self.max_iter = max_iter\n",
    "        self.metric_change = metric_change\n",
    "        return\n",
    "    \n",
    "    def gradient(self):\n",
    "        return (\n",
    "            2 * np.mean(self.w0 + self.w1*self.x_train - self.y_train),\n",
    "            2 * np.mean((self.w0 + self.w1*self.x_train - self.y_train) * self.x_train) \n",
    "        )\n",
    "    \n",
    "    def update_weights(self):\n",
    "        pD = self.gradient()\n",
    "        self.w0 = self.w0 - self.lr * pD[0]\n",
    "        self.w1 = self.w1 - self.lr * pD[1]\n",
    "        self.coef_ = [self.w1]\n",
    "        self.intercept_ = self.w0\n",
    "        return\n",
    "    \n",
    "    def fit(self, x_train, y_train):\n",
    "        self.x_train = x_train\n",
    "        self.y_train = y_train\n",
    "        \n",
    "        self.L = np.mean((self.predict(x_train) - y_train)**2)\n",
    "\n",
    "        for _ in range(self.max_iter):\n",
    "            self.update_weights()\n",
    "            new_loss = np.mean((self.w0 + self.w1*x_train - y_train)**2)\n",
    "            temp_change = self.L - new_loss\n",
    "            if temp_change < 0:\n",
    "                raise ValueError('Bad learning rate, loss function increases')\n",
    "            self.L = new_loss\n",
    "            if temp_change < self.metric_change:\n",
    "                break\n",
    "        return self\n",
    "        \n",
    "    def predict(self, x_test):\n",
    "        y_pred = self.w0 + self.w1 * x_test\n",
    "        return y_pred\n",
    "    \n",
    "    def score(self, x_test, y_test):\n",
    "        total_var = ((y_test - y_test.mean()) ** 2).sum()\n",
    "        unexplained_var = ((y_test - self.predict(x_test)) ** 2).sum()\n",
    "        r2 = 1 - unexplained_var/total_var\n",
    "        return r2"
   ]
  },
  {
   "cell_type": "markdown",
   "metadata": {
    "id": "O5G7xd4sBJdk"
   },
   "source": [
    "# Implement Ridge Regression (Gradient Descent) for unlimited number of variables"
   ]
  },
  {
   "cell_type": "code",
   "execution_count": 4,
   "metadata": {
    "id": "TCfwwijYBJdl"
   },
   "outputs": [],
   "source": [
    "class RidgeRegression:\n",
    "    def __init__(self, lr=0.1, lmb=1, max_iter=3000, metric_change=0.000001):\n",
    "        self.lr = lr\n",
    "        self.lmb = lmb\n",
    "        self.max_iter = max_iter\n",
    "        self.metric_change = metric_change\n",
    "        return\n",
    "\n",
    "    def gradient(self):\n",
    "        l = self.x_train.shape[0]\n",
    "        k = self.w.shape[0]\n",
    "        pD = []\n",
    "        for i in range(k):\n",
    "            pD_i = 2 * np.mean((self.x_train.dot(np.transpose(self.w)) - self.y_train)*self.x_train[:,i])\n",
    "            if i != 0:\n",
    "                pD_i += (2*self.lmb/l) * self.w[i]\n",
    "\n",
    "            pD.append(pD_i)\n",
    "        return np.array(pD)\n",
    "    \n",
    "    def update_weights(self):\n",
    "        pD = self.gradient()\n",
    "        self.w = self.w - self.lr * pD\n",
    "        self.coef_ = self.w[1:]\n",
    "        self.intercept_ = self.w[0]\n",
    "        return\n",
    "\n",
    "    def fit(self, x_train, y_train):\n",
    "        l = x_train.shape[0]\n",
    "\n",
    "        self.x_train = np.concatenate([np.ones(l).reshape((-1, 1)), x_train], axis=1)\n",
    "        self.y_train = y_train\n",
    "        self.w = np.ones(self.x_train.shape[1]) * 4\n",
    "        \n",
    "        self.L = np.mean((self.predict(x_train) - self.y_train)**2)\n",
    "\n",
    "        \n",
    "        for _ in range(self.max_iter):\n",
    "            self.update_weights()\n",
    "            new_loss = np.mean((self.x_train.dot(self.w.T) - self.y_train)**2)\n",
    "            temp_change = self.L - new_loss\n",
    "            if temp_change < 0:\n",
    "                raise ValueError('Bad learning rate or lambda, loss function increases')\n",
    "            self.L = new_loss\n",
    "            if temp_change < self.metric_change:\n",
    "                break\n",
    "        return self\n",
    "\n",
    "    def predict(self, x_test):\n",
    "        l = x_test.shape[0]\n",
    "        x_test = np.concatenate([np.ones(l).reshape((-1, 1)), x_test], axis=1)\n",
    "        y_pred = x_test.dot(self.w.T)\n",
    "        return y_pred\n",
    "\n",
    "    def score(self, x_test, y_test):\n",
    "        total_var = ((y_test - y_test.mean()) ** 2).sum()\n",
    "        unexplained_var = ((y_test - self.predict(x_test)) ** 2).sum()\n",
    "        r2 = 1 - unexplained_var/total_var\n",
    "        return r2"
   ]
  },
  {
   "cell_type": "code",
   "execution_count": 5,
   "metadata": {
    "id": "JqbVYTQJBJdX"
   },
   "outputs": [
    {
     "data": {
      "text/plain": [
       "<matplotlib.collections.PathCollection at 0x21836655940>"
      ]
     },
     "execution_count": 5,
     "metadata": {},
     "output_type": "execute_result"
    },
    {
     "data": {
      "image/png": "[encoded data removed]",
      "text/plain": [
       "<Figure size 432x288 with 1 Axes>"
      ]
     },
     "metadata": {
      "needs_background": "light"
     },
     "output_type": "display_data"
    }
   ],
   "source": [
    "x = np.linspace(-50, 100, 400)\n",
    "x_matrix = x.reshape(-1, 1)\n",
    "a0 = 5\n",
    "b0 = 3\n",
    "# x\n",
    "y = a0 + b0*x  + np.random.normal(0, 20, 400)\n",
    "# y\n",
    "x_train, x_test, y_train, y_test = train_test_split(x, y, test_size=0.2, random_state=0)\n",
    "xr_train, xr_test, yr_train, yr_test = train_test_split(x_matrix, y, test_size=0.2, random_state=0)\n",
    "plt.scatter(x, y)"
   ]
  },
  {
   "cell_type": "code",
   "execution_count": 6,
   "metadata": {},
   "outputs": [
    {
     "name": "stdout",
     "output_type": "stream",
     "text": [
      "Linear\n",
      "Slope:        3.029867563461872\n",
      "Intercept:    5.670528133655271\n",
      "Train score:  0.9758903684447849\n",
      "Test score:   0.9747020155350653\n"
     ]
    }
   ],
   "source": [
    "linR = LinearRegression(lr=0.0002)\n",
    "linR.fit(x_train, y_train)\n",
    "print('Linear')\n",
    "print('Slope:       ', linR.coef_[0])\n",
    "print('Intercept:   ', linR.intercept_)\n",
    "print('Train score: ', linR.score(x_train, y_train))\n",
    "print('Test score:  ', linR.score(x_test, y_test))"
   ]
  },
  {
   "cell_type": "code",
   "execution_count": 7,
   "metadata": {},
   "outputs": [
    {
     "name": "stdout",
     "output_type": "stream",
     "text": [
      "Ridge\n",
      "Slope:        [3.02986306]\n",
      "Intercept:    5.670607005186037\n",
      "Train score:  0.9758903764448027\n",
      "Test score:   0.9747019551939075\n"
     ]
    }
   ],
   "source": [
    "ridge = RidgeRegression(lr=0.0002, lmb=1)\n",
    "ridge.fit(xr_train, yr_train)\n",
    "print('Ridge')\n",
    "print('Slope:       ', ridge.coef_)\n",
    "print('Intercept:   ', ridge.intercept_)\n",
    "print('Train score: ', ridge.score(xr_train, yr_train))\n",
    "print('Test score:  ', ridge.score(xr_test, yr_test))"
   ]
  },
  {
   "cell_type": "code",
   "execution_count": null,
   "metadata": {},
   "outputs": [],
   "source": []
  }
 ],
 "metadata": {
  "accelerator": "GPU",
  "colab": {
   "collapsed_sections": [],
   "name": "GradientDescent.ipynb",
   "provenance": []
  },
  "kernelspec": {
   "display_name": "Python 3",
   "language": "python",
   "name": "python3"
  },
  "language_info": {
   "codemirror_mode": {
    "name": "ipython",
    "version": 3
   },
   "file_extension": ".py",
   "mimetype": "text/x-python",
   "name": "python",
   "nbconvert_exporter": "python",
   "pygments_lexer": "ipython3",
   "version": "3.9.5"
  }
 },
 "nbformat": 4,
 "nbformat_minor": 1
}
